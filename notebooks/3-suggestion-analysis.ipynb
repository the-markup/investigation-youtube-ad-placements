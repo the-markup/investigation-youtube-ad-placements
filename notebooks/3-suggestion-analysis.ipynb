{
 "cells": [
  {
   "cell_type": "markdown",
   "metadata": {},
   "source": [
    "# Analyzing Suggested Videos and Channels\n",
    "\n",
    "This section follows the \"Hate phrases vs hate content\" section of the methodology."
   ]
  },
  {
   "cell_type": "code",
   "execution_count": 1,
   "metadata": {},
   "outputs": [],
   "source": [
    "import os\n",
    "import pandas as pd\n",
    "from tqdm import tqdm"
   ]
  },
  {
   "cell_type": "code",
   "execution_count": 2,
   "metadata": {},
   "outputs": [],
   "source": [
    "# inputs\n",
    "fn_adl = '../data/input/adl_extremist_alternative_channels_overlap.csv'\n",
    "fn_topline = '../data/input/video_metadata/topline_hate_videos.csv'\n",
    "fn_deeper_catalog = '../data/input/video_metadata/deep_catalog_wwk_wg_we.csv'\n",
    "fn_youtube_videos = '../data/output/placements_api_suggestions/videos_for_hate_terms.csv'\n",
    "fn_youtube_channels = '../data/output/placements_api_suggestions/channels_for_hate_terms.csv'\n",
    "\n",
    "# outputs\n",
    "fn_table = '../data/output/adl_extremist_alternative_channel_overlap.csv'"
   ]
  },
  {
   "cell_type": "markdown",
   "metadata": {},
   "source": [
    "We cross-reference suggestions from the \"PlacementSuggestionService\" API against channels that a [recent report](https://www.adl.org/resources/reports/exposure-to-alternative-extremist-content-on-youtube) published by the ADL identified as \"extremist\" and \"alternative\".\n",
    "\n",
    "We use a subset of channels that overlap with those in our study (`fn_adl`)."
   ]
  },
  {
   "cell_type": "code",
   "execution_count": 3,
   "metadata": {},
   "outputs": [
    {
     "data": {
      "text/plain": [
       "channel_name               StevenCrowder\n",
       "channel_id      UCIveFvW-ARp_B_RckhweNJw\n",
       "type                         alternative\n",
       "sources            Ledwich|Ribeiro|Lewis\n",
       "Name: 0, dtype: object"
      ]
     },
     "execution_count": 3,
     "metadata": {},
     "output_type": "execute_result"
    }
   ],
   "source": [
    "df_adl = pd.read_csv(fn_adl)\n",
    "df_adl.iloc[0]"
   ]
  },
  {
   "cell_type": "code",
   "execution_count": 4,
   "metadata": {},
   "outputs": [
    {
     "data": {
      "text/plain": [
       "28"
      ]
     },
     "execution_count": 4,
     "metadata": {},
     "output_type": "execute_result"
    }
   ],
   "source": [
    "extremist_channels = df_adl[df_adl.type == 'extremist'].channel_id.tolist()\n",
    "len(extremist_channels)"
   ]
  },
  {
   "cell_type": "code",
   "execution_count": 5,
   "metadata": {},
   "outputs": [
    {
     "data": {
      "text/plain": [
       "64"
      ]
     },
     "execution_count": 5,
     "metadata": {},
     "output_type": "execute_result"
    }
   ],
   "source": [
    "alt_channels = df_adl[df_adl.type == 'alternative'].channel_id.tolist()\n",
    "len(alt_channels)"
   ]
  },
  {
   "cell_type": "markdown",
   "metadata": {},
   "source": [
    "## Getting YouTube Metadata\n",
    "We used `channel_id` to match videos we were suggested with channels from the ADL report. This is not available in the suggested videos, so we collect the video metadata using the YouTube Data API (v3) Python client.\n",
    "\n",
    "This code is just an example of what we did for all `video_id`'s:\n",
    "\n",
    "```python\n",
    "from youtube_api import YouTubeDataAPI\n",
    "\n",
    "def custom_parser(resp : dict) -> dict:\n",
    "    \"\"\"\n",
    "    Parses the JSON response from the YouTube Data API.\n",
    "    Mostly descriptive fields from the snippet.\n",
    "    \"\"\"\n",
    "    return {\n",
    "        \"video_id\" : resp['id'],\n",
    "        \"video_title\": resp['snippet']['title'],\n",
    "        \"video_description\": resp['snippet']['description'],\n",
    "        \"video_tags\": \"|\".join(resp['snippet'].get('tags', [])),\n",
    "        \"video_published_at\": resp['snippet']['publishedAt'],\n",
    "        \"channel_title\": resp['snippet']['channelTitle'],\n",
    "        \"channel_id\": resp['snippet']['channelId'],\n",
    "    }\n",
    "\n",
    "# you need an API key for the YouTube Data API v3\n",
    "YT_KEY = \"AKAI- ...\"\n",
    "yt = YouTubeDataAPI(YT_KEY)\n",
    "\n",
    "video_id = \"5qap5aO4i9A\"\n",
    "video_metadata = yt.get_video_metadata(video_id, parser=custom_parser)\n",
    "```"
   ]
  },
  {
   "cell_type": "markdown",
   "metadata": {},
   "source": [
    "## How many Extremist and Alternative channels were we suggested for Topline suggestions?"
   ]
  },
  {
   "cell_type": "code",
   "execution_count": 6,
   "metadata": {},
   "outputs": [],
   "source": [
    "df_topline_channels = pd.read_csv(fn_youtube_channels)\n",
    "df_topline_channels = df_topline_channels[~df_topline_channels.youtube_channel_id.isnull()]"
   ]
  },
  {
   "cell_type": "code",
   "execution_count": 7,
   "metadata": {},
   "outputs": [
    {
     "name": "stdout",
     "output_type": "stream",
     "text": [
      "N unique videos: 1311\n"
     ]
    },
    {
     "data": {
      "text/plain": [
       "video_id                                                    04axDDRVy_o\n",
       "video_title           The “ethnic cleansing” of Myanmar’s Rohingya M...\n",
       "video_description     The Rohingya have been systematically driven o...\n",
       "video_tags            vox.com|vox|explain|Rohingya|Myanmer|Bangledes...\n",
       "video_published_at                             2017-09-25T12:00:01.000Z\n",
       "channel_title                                                       Vox\n",
       "channel_id                                     UCLXo7UDZvByw2ixzpQCufnA\n",
       "Name: 0, dtype: object"
      ]
     },
     "execution_count": 7,
     "metadata": {},
     "output_type": "execute_result"
    }
   ],
   "source": [
    "df_topline = pd.read_csv(fn_topline)\n",
    "print(f\"N unique videos: {len(df_topline)}\")\n",
    "df_topline.iloc[0]"
   ]
  },
  {
   "cell_type": "code",
   "execution_count": 8,
   "metadata": {},
   "outputs": [],
   "source": [
    "# video suggestions\n",
    "topline_extreme = df_topline[df_topline.channel_id.isin(extremist_channels)]\n",
    "topline_alt = df_topline[df_topline.channel_id.isin(alt_channels)]"
   ]
  },
  {
   "cell_type": "code",
   "execution_count": 9,
   "metadata": {},
   "outputs": [],
   "source": [
    "# channel suggestions\n",
    "topline_extreme_channel_suggestions = df_topline_channels[\n",
    "    df_topline_channels.youtube_channel_id.isin(extremist_channels)]\n",
    "\n",
    "topline_alt_channel_suggestions = df_topline_channels[\n",
    "    df_topline_channels.youtube_channel_id.isin(alt_channels)]"
   ]
  },
  {
   "cell_type": "code",
   "execution_count": 10,
   "metadata": {},
   "outputs": [],
   "source": [
    "# combine unique channels from videos and channels\n",
    "topline_extreme_channels= list(set(\n",
    "    topline_extreme_channel_suggestions.youtube_channel_name.tolist() + \n",
    "    topline_extreme.channel_title.tolist()\n",
    "))\n",
    "\n",
    "topline_alt_channels= list(set(\n",
    "    topline_alt_channel_suggestions.youtube_channel_name.tolist() + \n",
    "    topline_alt.channel_title.tolist()\n",
    "))"
   ]
  },
  {
   "cell_type": "markdown",
   "metadata": {},
   "source": [
    "## How many Extremist and Alternative channels were we suggested for the deeper catalog of three terms?"
   ]
  },
  {
   "cell_type": "code",
   "execution_count": 11,
   "metadata": {},
   "outputs": [
    {
     "name": "stdout",
     "output_type": "stream",
     "text": [
      "N unique videos: 1635\n"
     ]
    },
    {
     "data": {
      "text/plain": [
       "video_id                                                    puJ-arJgkZU\n",
       "video_title           Gary Younge interviews Richard Spencer: 'Afric...\n",
       "video_description     In a dramatic interview, the Guardian's Gary Y...\n",
       "video_tags            Richard Spencer|Gary Younge|white supremacy|ra...\n",
       "video_published_at                             2017-11-07T09:28:00.000Z\n",
       "channel_title                                              The Guardian\n",
       "channel_id                                     UCHpw8xwDNhU9gdohEcJu4aA\n",
       "Name: 0, dtype: object"
      ]
     },
     "execution_count": 11,
     "metadata": {},
     "output_type": "execute_result"
    }
   ],
   "source": [
    "df_deeper_catalog = pd.read_csv(fn_deeper_catalog)\n",
    "print(f\"N unique videos: {len(df_deeper_catalog)}\")\n",
    "df_deeper_catalog.iloc[0]"
   ]
  },
  {
   "cell_type": "code",
   "execution_count": 12,
   "metadata": {},
   "outputs": [],
   "source": [
    "deep_extreme = df_deeper_catalog[df_deeper_catalog.channel_id.isin(extremist_channels)]\n",
    "deep_alt = df_deeper_catalog[df_deeper_catalog.channel_id.isin(alt_channels)]"
   ]
  },
  {
   "cell_type": "code",
   "execution_count": 13,
   "metadata": {},
   "outputs": [
    {
     "data": {
      "text/html": [
       "<div>\n",
       "<style scoped>\n",
       "    .dataframe tbody tr th:only-of-type {\n",
       "        vertical-align: middle;\n",
       "    }\n",
       "\n",
       "    .dataframe tbody tr th {\n",
       "        vertical-align: top;\n",
       "    }\n",
       "\n",
       "    .dataframe thead th {\n",
       "        text-align: right;\n",
       "    }\n",
       "</style>\n",
       "<table border=\"1\" class=\"dataframe\">\n",
       "  <thead>\n",
       "    <tr style=\"text-align: right;\">\n",
       "      <th></th>\n",
       "      <th>data source</th>\n",
       "      <th>category</th>\n",
       "      <th>n_videos</th>\n",
       "      <th>perc_videos</th>\n",
       "      <th>n_channels</th>\n",
       "      <th>channels</th>\n",
       "    </tr>\n",
       "  </thead>\n",
       "  <tbody>\n",
       "    <tr>\n",
       "      <th>0</th>\n",
       "      <td>topline</td>\n",
       "      <td>extremist</td>\n",
       "      <td>32</td>\n",
       "      <td>0.024409</td>\n",
       "      <td>23</td>\n",
       "      <td>MILO | CoachDave.TV | Eli Harman | Arktos | St...</td>\n",
       "    </tr>\n",
       "    <tr>\n",
       "      <th>1</th>\n",
       "      <td>topline</td>\n",
       "      <td>alternative</td>\n",
       "      <td>53</td>\n",
       "      <td>0.040427</td>\n",
       "      <td>41</td>\n",
       "      <td>RockingMrE | Jesse Lee Peterson | BlazeTV | Kr...</td>\n",
       "    </tr>\n",
       "    <tr>\n",
       "      <th>2</th>\n",
       "      <td>deep3</td>\n",
       "      <td>extremist</td>\n",
       "      <td>23</td>\n",
       "      <td>0.021375</td>\n",
       "      <td>14</td>\n",
       "      <td>Nightmare Fuel | Sargon of Akkad | Styxhexenha...</td>\n",
       "    </tr>\n",
       "    <tr>\n",
       "      <th>3</th>\n",
       "      <td>deep3</td>\n",
       "      <td>alternative</td>\n",
       "      <td>219</td>\n",
       "      <td>0.203532</td>\n",
       "      <td>38</td>\n",
       "      <td>Coach Red Pill | RockingMrE | Dame Pesos | Jes...</td>\n",
       "    </tr>\n",
       "  </tbody>\n",
       "</table>\n",
       "</div>"
      ],
      "text/plain": [
       "  data source     category  n_videos  perc_videos  n_channels  \\\n",
       "0     topline    extremist        32     0.024409          23   \n",
       "1     topline  alternative        53     0.040427          41   \n",
       "2       deep3    extremist        23     0.021375          14   \n",
       "3       deep3  alternative       219     0.203532          38   \n",
       "\n",
       "                                            channels  \n",
       "0  MILO | CoachDave.TV | Eli Harman | Arktos | St...  \n",
       "1  RockingMrE | Jesse Lee Peterson | BlazeTV | Kr...  \n",
       "2  Nightmare Fuel | Sargon of Akkad | Styxhexenha...  \n",
       "3  Coach Red Pill | RockingMrE | Dame Pesos | Jes...  "
      ]
     },
     "execution_count": 13,
     "metadata": {},
     "output_type": "execute_result"
    }
   ],
   "source": [
    "result = pd.DataFrame([\n",
    "    {\n",
    "        \"data source\": \"topline\",\n",
    "        \"category\": \"extremist\",\n",
    "        \"n_videos\": topline_extreme.video_id.nunique(),\n",
    "        \"perc_videos\" : topline_extreme.video_id.nunique() / df_topline.video_id.nunique(),\n",
    "        \"n_channels\": len(topline_extreme_channels),\n",
    "        \"channels\" : \" | \".join(set(topline_extreme_channels))\n",
    "    },\n",
    "    \n",
    "    {\n",
    "        \"data source\": \"topline\",\n",
    "        \"category\": \"alternative\",\n",
    "        \"n_videos\": topline_alt.video_id.nunique(),\n",
    "        \"perc_videos\" : topline_alt.video_id.nunique() / df_topline.video_id.nunique(),\n",
    "        \"n_channels\": len(topline_alt_channels),\n",
    "        \"channels\" : \" | \".join(set(topline_alt_channels))\n",
    "    },\n",
    "    \n",
    "    {\n",
    "        \"data source\": \"deep3\",\n",
    "        \"category\": \"extremist\",\n",
    "        \"n_videos\": deep_extreme.video_id.nunique(),\n",
    "        \"perc_videos\" : deep_extreme.video_id.nunique() / df_deeper_catalog.video_id.nunique(),\n",
    "        \"n_channels\": deep_extreme.channel_title.nunique(),\n",
    "        \"channels\" : \" | \".join(set(deep_extreme.channel_title.unique()))\n",
    "    },\n",
    "    \n",
    "    {\n",
    "        \"data source\": \"deep3\",\n",
    "        \"category\": \"alternative\",\n",
    "        \"n_videos\": deep_alt.video_id.nunique(),\n",
    "        \"perc_videos\" : deep_alt.video_id.nunique() / df_deeper_catalog.video_id.nunique(),\n",
    "        \"n_channels\": deep_alt.channel_title.nunique(),\n",
    "        \"channels\" : \" | \".join(set(deep_alt.channel_title.unique()))\n",
    "    }\n",
    "])\n",
    "\n",
    "result"
   ]
  },
  {
   "cell_type": "code",
   "execution_count": 14,
   "metadata": {},
   "outputs": [],
   "source": [
    "result.to_csv(fn_table, index=False)"
   ]
  },
  {
   "cell_type": "markdown",
   "metadata": {},
   "source": [
    "## Do suggested videos contain metadata that matches the query?"
   ]
  },
  {
   "cell_type": "code",
   "execution_count": 15,
   "metadata": {},
   "outputs": [],
   "source": [
    "# these are suggested videos, we'll merge the video metadata to make this search.\n",
    "df_hate_video = pd.read_csv(fn_youtube_videos)"
   ]
  },
  {
   "cell_type": "code",
   "execution_count": 16,
   "metadata": {},
   "outputs": [],
   "source": [
    "def search_metadata(row : dict) -> bool:\n",
    "    \"\"\"\n",
    "    Check for metadata that corresponds with the `search_term`\n",
    "    \"\"\"\n",
    "    term = row['search_term'].replace(' ', '')\n",
    "    if term in row['youtube_video_title'].lower().replace(' ', ''):\n",
    "        return True\n",
    "    elif term in str(row['video_tags']).replace(' ', ''):\n",
    "        return True\n",
    "    elif term in str(row['video_description']).lower().replace(' ', ''):\n",
    "        return True\n",
    "    return False"
   ]
  },
  {
   "cell_type": "code",
   "execution_count": 17,
   "metadata": {},
   "outputs": [
    {
     "data": {
      "text/plain": [
       "True     0.586107\n",
       "False    0.413893\n",
       "dtype: float64"
      ]
     },
     "execution_count": 17,
     "metadata": {},
     "output_type": "execute_result"
    }
   ],
   "source": [
    "df_hate_video.merge(df_topline, on='video_id').apply(search_metadata, axis=1).value_counts(normalize=True)"
   ]
  }
 ],
 "metadata": {
  "kernelspec": {
   "display_name": "Python 3",
   "language": "python",
   "name": "python3"
  },
  "language_info": {
   "codemirror_mode": {
    "name": "ipython",
    "version": 3
   },
   "file_extension": ".py",
   "mimetype": "text/x-python",
   "name": "python",
   "nbconvert_exporter": "python",
   "pygments_lexer": "ipython3",
   "version": "3.8.1"
  }
 },
 "nbformat": 4,
 "nbformat_minor": 4
}
