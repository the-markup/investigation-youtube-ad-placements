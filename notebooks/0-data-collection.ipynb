{
 "cells": [
  {
   "cell_type": "markdown",
   "metadata": {},
   "source": [
    "## Data Collection\n",
    "This notebook shows how to access the \"PlacementSuggestionService\" API.\n",
    "We used several keyword lists in `terms.py` and submitted each term to the API. We re-submitted blocked terms without spaces and word-by-word to get the status of each baseword.\n",
    "\n",
    "Note: If you want to run our analysis on the data we already collected, you don't need to re-run this notebook."
   ]
  },
  {
   "cell_type": "code",
   "execution_count": 9,
   "metadata": {},
   "outputs": [],
   "source": [
    "import os\n",
    "import json\n",
    "import time\n",
    "import glob\n",
    "import requests\n",
    "from requests.adapters import HTTPAdapter\n",
    "from requests.packages.urllib3.util.retry import Retry\n",
    "\n",
    "from tqdm import tqdm\n",
    "\n",
    "from terms import category2terms"
   ]
  },
  {
   "cell_type": "code",
   "execution_count": 18,
   "metadata": {},
   "outputs": [],
   "source": [
    "# create request session\n",
    "s = requests.Session()\n",
    "retries = Retry(total=5, \n",
    "                backoff_factor=2, \n",
    "                status_forcelist=[ 500, 501, 502, 503, 504 ])\n",
    "s.mount('http://', HTTPAdapter(max_retries=retries))"
   ]
  },
  {
   "cell_type": "code",
   "execution_count": 3,
   "metadata": {},
   "outputs": [],
   "source": [
    "# output: where is data saved?\n",
    "DATA_OUT = '../data/input/placements_api'"
   ]
  },
  {
   "cell_type": "markdown",
   "metadata": {},
   "source": [
    "## Accessing the API\n",
    "The following `headers`, `params` and `data` are from \"ads.google.com\".\n",
    "\n",
    "We get them using DevTools (on Chrome) and listen for network requests while filling out searches for video-based ad placements. The network request was copied as a `cURL` and converted to a Python request using: https://curl.trillworks.com.\n",
    "\n",
    "**You must repeat this step** if you wish to use the API (the params here are no longer valid, and some values have been replaced with \"REDACTED\").\n",
    "\n",
    "Note: We re-write the \"`__ar`\" data argument for each new keyword."
   ]
  },
  {
   "cell_type": "code",
   "execution_count": 17,
   "metadata": {},
   "outputs": [],
   "source": [
    "headers = {\n",
    "    'authority': 'ads.google.com',\n",
    "    'x-same-domain': '1',\n",
    "    'dnt': 'REDACTED',\n",
    "    'x-framework-xsrf-token': 'REDACTED',\n",
    "    'user-agent': 'REDACTED',\n",
    "    'build-version': 'v1611596777',\n",
    "    'content-type': 'application/x-www-form-urlencoded',\n",
    "    'accept': '*/*',\n",
    "    'origin': 'https://ads.google.com',\n",
    "    'x-client-data': 'REDACTED',\n",
    "    'sec-fetch-site': 'same-origin',\n",
    "    'sec-fetch-mode': 'cors',\n",
    "    'sec-fetch-dest': 'empty',\n",
    "    'referer': 'REDACTED',\n",
    "    'accept-language': 'en-US,en;q=0.9',\n",
    "    'cookie': 'REDACTED',\n",
    "}\n",
    "\n",
    "params = (\n",
    "    ('authuser', '0'),\n",
    "    ('acx-v-bv', 'awn_video_auto_REDACTED'),\n",
    "    ('acx-v-clt', 'REDACTED'),\n",
    "    ('rpcTrackingId', 'PlacementSuggestionService.Fetch:3'),\n",
    "    ('f.sid', 'REDACTED'),\n",
    ")\n",
    "\n",
    "data = {\n",
    "    'hl': 'en_US',\n",
    "    '__lu': 'REDACTED',\n",
    "    '__u': 'REDACTED',\n",
    "    '__c': 'REDACTED',\n",
    "    'f.sid': 'REDACTED',\n",
    "    'ps': 'aw',\n",
    "    '__ar': '{\"1\":\"dogs\",\"2\":{\"1\":0,\"2\":20},\"3\":[1,4,6,5,2,3],\"4\":true,\"5\":false,\"8\":\"355895228\",\"11\":[\"US\"],\"14\":{\"1\":20}}',\n",
    "    'activityContext': 'VideoCampaignConstruction.PlacementPickerPanel.ExpansionPanel.PlacementPickerComponent.Search',\n",
    "    'requestPriority': 'HIGH_LATENCY_SENSITIVE',\n",
    "    'activityType': 'INTERACTIVE',\n",
    "    'activityId': 'REDACTED',\n",
    "    'uniqueFingerprint': 'REDACTED',\n",
    "    'previousPlace': '/aw/campaigns/new/video',\n",
    "    'activityName': 'VideoCampaignConstruction.PlacementPickerPanel.ExpansionPanel.PlacementPickerComponent.Search',\n",
    "    'destinationPlace': '/aw/campaigns/new/video'\n",
    "}"
   ]
  },
  {
   "cell_type": "markdown",
   "metadata": {},
   "source": [
    "## Query the API"
   ]
  },
  {
   "cell_type": "code",
   "execution_count": 10,
   "metadata": {},
   "outputs": [
    {
     "data": {
      "text/plain": [
       "dict_keys(['social_justice', 'hate', 'policy', 'noise', 'adhoc'])"
      ]
     },
     "execution_count": 10,
     "metadata": {},
     "output_type": "execute_result"
    }
   ],
   "source": [
    "# The keyword lists are stored here.\n",
    "category2terms.keys()"
   ]
  },
  {
   "cell_type": "code",
   "execution_count": 5,
   "metadata": {},
   "outputs": [],
   "source": [
    "def query_placements_api(query, fn_out, headers, params, data):\n",
    "    \"\"\"Gets JSON from the PlacementSuggestionService API.\"\"\"\n",
    "    # format the argument\n",
    "    data['__ar'] = '{\"1\":\"'+ query +'\",\"2\":{\"1\":0,\"2\":20},\"3\":[1,4,6,5,2,3],\"4\":true,\"5\":false,\"8\":\"527682421\",\"11\":[\"US\"],\"13\":[1],\"14\":{\"1\":20}}'\n",
    "    \n",
    "    # make the request\n",
    "    response = s.post('https://ads.google.com/aw_video/_/rpc/PlacementSuggestionService/Fetch', \n",
    "                      headers=headers, params=params, data=data)\n",
    "    \n",
    "    # save the JSON request\n",
    "    with open(fn_out, 'w') as f:\n",
    "        f.write(json.dumps(response.json()))\n",
    "    time.sleep(3)"
   ]
  },
  {
   "cell_type": "code",
   "execution_count": 7,
   "metadata": {},
   "outputs": [],
   "source": [
    "# make a request for each keyword, and save the json response.\n",
    "for cat, terms in category2terms.items():\n",
    "    data_dir_ = os.path.join(f'{DATA_OUT}/{cat}')\n",
    "    os.makedirs(data_dir_, exist_ok=True)\n",
    "    for term in tqdm(terms):\n",
    "        fn_out = f'{data_dir_}/{term.lower()}.json'\n",
    "        if os.path.exists(fn_out):\n",
    "            continue\n",
    "        query_placements_api(term, fn_out, headers, params, data)"
   ]
  },
  {
   "cell_type": "markdown",
   "metadata": {},
   "source": [
    "## Re-run \"blocked\" responses without spaces\n",
    "A quick heuristic for \"blocked\" responses is checking the size. Blocked responses are just two characters `{}`, so the size is 2."
   ]
  },
  {
   "cell_type": "code",
   "execution_count": 25,
   "metadata": {},
   "outputs": [],
   "source": [
    "blocked = []\n",
    "for fn in glob.glob(DATA_OUT + '/*/*'):\n",
    "    size = os.stat(fn).st_size\n",
    "    if size == 2:\n",
    "        blocked.append(fn)"
   ]
  },
  {
   "cell_type": "code",
   "execution_count": 27,
   "metadata": {},
   "outputs": [
    {
     "data": {
      "text/plain": [
       "'data_1m/raw/policy/bullfighting swords in bull.json'"
      ]
     },
     "execution_count": 27,
     "metadata": {},
     "output_type": "execute_result"
    }
   ],
   "source": [
    "blocked[1]"
   ]
  },
  {
   "cell_type": "code",
   "execution_count": 30,
   "metadata": {},
   "outputs": [],
   "source": [
    "data_out_2 = f'{DATA_OUT}/blocked'\n",
    "os.makedirs(data_out_2, exist_ok=True)"
   ]
  },
  {
   "cell_type": "code",
   "execution_count": 31,
   "metadata": {},
   "outputs": [
    {
     "name": "stderr",
     "output_type": "stream",
     "text": [
      "100%|██████████| 204/204 [08:23<00:00,  2.47s/it]\n"
     ]
    }
   ],
   "source": [
    "# Query each blocked term without spaces.\n",
    "for fn in tqdm(blocked):\n",
    "    term = fn.split('/')[3].replace('.json', '')\n",
    "    new_term = term.replace(' ', '')\n",
    "    if term == new_term:\n",
    "        continue\n",
    "    fn_out = f'{data_out_2}/{term}.json'\n",
    "    if os.path.exists(fn_out):\n",
    "        continue\n",
    "    query_placements_api(new_term, fn_out, headers, params, data)"
   ]
  },
  {
   "cell_type": "markdown",
   "metadata": {},
   "source": [
    "## Blocked basewords\n",
    "Split each blocked response into base words."
   ]
  },
  {
   "cell_type": "code",
   "execution_count": 34,
   "metadata": {},
   "outputs": [
    {
     "name": "stderr",
     "output_type": "stream",
     "text": [
      "100%|██████████| 204/204 [00:00<00:00, 600447.73it/s]\n"
     ]
    }
   ],
   "source": [
    "base_words = []\n",
    "for fn in blocked:\n",
    "    term = fn.split('/')[3].replace('.json', '')\n",
    "    base_words.extend(term.split(' '))"
   ]
  },
  {
   "cell_type": "code",
   "execution_count": 35,
   "metadata": {},
   "outputs": [
    {
     "data": {
      "text/plain": [
       "263"
      ]
     },
     "execution_count": 35,
     "metadata": {},
     "output_type": "execute_result"
    }
   ],
   "source": [
    "base_words = list(set(base_words))\n",
    "len(base_words)"
   ]
  },
  {
   "cell_type": "code",
   "execution_count": 37,
   "metadata": {},
   "outputs": [],
   "source": [
    "data_out_3 = f'{DATA_OUT}/blocked_basewords'\n",
    "os.makedirs(data_out_3, exist_ok=True)"
   ]
  },
  {
   "cell_type": "code",
   "execution_count": 38,
   "metadata": {},
   "outputs": [
    {
     "name": "stderr",
     "output_type": "stream",
     "text": [
      "100%|██████████| 263/263 [20:08<00:00,  4.60s/it]\n"
     ]
    }
   ],
   "source": [
    "for term in tqdm(base_words):\n",
    "    fn_out = f'{data_out_3}/{term}.json'\n",
    "    if os.path.exists(fn_out):\n",
    "        continue\n",
    "    query_placements_api(term, fn_out, headers, params, data)"
   ]
  }
 ],
 "metadata": {
  "kernelspec": {
   "display_name": "Python 3",
   "language": "python",
   "name": "python3"
  },
  "language_info": {
   "codemirror_mode": {
    "name": "ipython",
    "version": 3
   },
   "file_extension": ".py",
   "mimetype": "text/x-python",
   "name": "python",
   "nbconvert_exporter": "python",
   "pygments_lexer": "ipython3",
   "version": "3.8.1"
  }
 },
 "nbformat": 4,
 "nbformat_minor": 4
}
