{
 "cells": [
  {
   "cell_type": "markdown",
   "metadata": {},
   "source": [
    "## Data Collection\n",
    "This notebook shows how to access the \"PlacementSuggestionService\" API.\n",
    "<img src=\"../data/media/google_ad_portal_youtube_ad_placements.png\">"
   ]
  },
  {
   "cell_type": "code",
   "execution_count": 2,
   "metadata": {},
   "outputs": [],
   "source": [
    "%load_ext autoreload\n",
    "%autoreload 2"
   ]
  },
  {
   "cell_type": "code",
   "execution_count": 9,
   "metadata": {},
   "outputs": [],
   "source": [
    "import os\n",
    "import json\n",
    "import time\n",
    "import string\n",
    "import random\n",
    "import glob\n",
    "from requests.adapters import HTTPAdapter\n",
    "from requests.packages.urllib3.util.retry import Retry\n",
    "\n",
    "from tqdm import tqdm\n",
    "import pandas as pd\n",
    "\n",
    "from terms import category2terms"
   ]
  },
  {
   "cell_type": "code",
   "execution_count": 18,
   "metadata": {},
   "outputs": [],
   "source": [
    "# create request session\n",
    "s = requests.Session()\n",
    "retries = Retry(total=5, \n",
    "                backoff_factor=2, \n",
    "                status_forcelist=[ 500, 501, 502, 503, 504 ])\n",
    "s.mount('http://', HTTPAdapter(max_retries=retries))"
   ]
  },
  {
   "cell_type": "code",
   "execution_count": 3,
   "metadata": {},
   "outputs": [],
   "source": [
    "# output: where is data saved?\n",
    "DATA_OUT = '../data/input/placements_api'"
   ]
  },
  {
   "cell_type": "markdown",
   "metadata": {},
   "source": [
    "## Finding the API\n",
    "The following `headers`, `params` and `data` are from \"ads.google.com\".\n",
    "\n",
    "We get them using DevTools (on Chrome) and listen for network requests while filling out searches for video-based ad placements. The network request was copied as a `cURL` and converted to a Python request using: https://curl.trillworks.com.\n",
    "\n",
    "You must repeat this step if you wish to use the API (the params here are no longer valid).\n",
    "\n",
    "Note: We re-write the \"`__ar`\" data argument for each new keyword."
   ]
  },
  {
   "cell_type": "code",
   "execution_count": 17,
   "metadata": {},
   "outputs": [],
   "source": [
    "headers = {\n",
    "    'authority': 'ads.google.com',\n",
    "    'x-same-domain': '1',\n",
    "    'dnt': '1',\n",
    "    'x-framework-xsrf-token': 'ADqOtbzhpC9ilkCgPxhUmyex3zas00kHTA:1611690490029',\n",
    "    'user-agent': 'Mozilla/5.0 (Macintosh; Intel Mac OS X 10_15_7) AppleWebKit/537.36 (KHTML, like Gecko) Chrome/88.0.4324.96 Safari/537.36',\n",
    "    'build-version': 'v1611596777',\n",
    "    'content-type': 'application/x-www-form-urlencoded',\n",
    "    'accept': '*/*',\n",
    "    'origin': 'https://ads.google.com',\n",
    "    'x-client-data': 'CK21yQEIhLbJAQiltskBCMG2yQEIqZ3KAQiWrMoBCMbCygEI98fKAQikzcoBCNzVygEIv4jLAQjsmMsBCJOaywEIzZrLAQjXm8sBCKidywEI4Z3LARj5uMoBGKqbywE=',\n",
    "    'sec-fetch-site': 'same-origin',\n",
    "    'sec-fetch-mode': 'cors',\n",
    "    'sec-fetch-dest': 'empty',\n",
    "    'referer': 'https://ads.google.com/aw/campaigns/new/video?ocid=355895228&cmpnInfo=%7B%221%22%3A4%2C%228%22%3A%22a58AAE3A1-154A-42D2-8C67-DF2356BF8AF2--6%22%2C%2219%22%3A%7B%224%22%3A1%7D%7D&euid=354893925&__u=1802067325&uscid=355895228&__c=4335588572&authuser=0&subid=us-en-et-g-aw-c-home-awhp_xin1_signin%21o2',\n",
    "    'accept-language': 'en-US,en;q=0.9',\n",
    "    'cookie': 'S=adwords-frontend-video=jhTdc0dl7CJ5xlTTLCchfiiLdWL2pfeOR2VxtW-sX84; CONSENT=YES+US.en+; AdsUserLocale=en_US; adwordsReferralSource=sourceid=emp&subid=us-en-et-g-aw-c-home-awhp_xin1_signin\\\\u0021o2&clickid=; OSID=5Qc2eG2SYxoMf6QNOrX3oziqzgo1ZhtVu65DfprV7_zBAahASn_ABVn2FdWYmI_E5oc4iA.; __Secure-OSID=5Qc2eG2SYxoMf6QNOrX3oziqzgo1ZhtVu65DfprV7_zBAahAB_aK2zt5bBBqMMP42BzlZg.; _ga_6WWNF0Z6T6=GS1.1.1610122858.5.0.1610122858.0; S=billing-ui-v3=m0PSjxgWhpFRv6Ti0eUvJnIRXMxfZOfh:billing-ui-v3-efe=m0PSjxgWhpFRv6Ti0eUvJnIRXMxfZOfh; ANID=AHWqTUnq2If08O5OctiiWbchH1KYYKXY5qjb251V1J2eyCFls0d5_NwTE_-0WOWR; SID=6Ac2eKvWouPuzWrk3bO8Rm-AOj4QunjmdEhBbiCiILQuqUS5WzuayRYVYXdzOJhD2NqpBQ.; __Secure-3PSID=6Ac2eKvWouPuzWrk3bO8Rm-AOj4QunjmdEhBbiCiILQuqUS5144PiWAwgJaJhDOhJCA-aw.; HSID=ABMlAYSmNkyYGqt_s; SSID=AWWuAWSOEsePTr_Y4; APISID=rpOpGWTxxjQaBX0M/AZe0EcGg3tNA4oeI3; SAPISID=DZYCM2ZYTEvL1Tw1/A_aBH5mC9UsGD3Q2I; __Secure-3PAPISID=DZYCM2ZYTEvL1Tw1/A_aBH5mC9UsGD3Q2I; 1P_JAR=2021-01-26-18; NID=207=Rs34CALhrzFwJAQxzzX8n_FJMO1yIDdEDQ3YFc72SplrIuAW2cFsMtrMjiFE1p3NPWeKWrBcHOyQt3Y8nH3l02Ct3UKB8WxFg_z83PELjZB00IS0sIme9p1wsuHUOp5UkBhNe-ACgg0MnTawJqEsQKPeVi3FcjcSRcEilazALwQ9zJmzE56Hwbhw46zDXj6EiX47zdRxoqy8-jJLErHsSGLrfepdAvVUVam8ssZSUGeHgRSQf6JuECXsQ-liQC2CJzbQj_K-cc35PQbioDh_VU22xI1-iwnoOQWEGXQtKYNkNHDt7SV9DZtDnb0ZYgq63EQT3tBHRAPGIR9kbzkVPKCw-8-617AEpG5h_4UpbDGcni4; S=acx-adwords-navigation-frontend=MylHEJAmywP02kqAMN6_hAc8wsOtn_4DSSnkGr0_hMg; _gid=GA1.3.772351972.1611690392; _gat_UA-113093516-1=1; _ga_3VJ2NVL4LT=GS1.1.1611690391.20.0.1611690483.0; _ga_D9KXP9673K=GS1.1.1611690391.20.0.1611690484.0; _ga=GA1.3.25134381.1598298961; _gat=1; SIDCC=AJi4QfE3cQxiB5uVynnKOa-Jrh5fHgqBWqAZCposEOQuZ9vcusEHPZq_rIqYFhwgrbhBe2aJMD0; __Secure-3PSIDCC=AJi4QfHB30sNqCcgxb7dnta5e4sAEGXDiaD2BPq0Cot8h2wLTA23tiG7BD-_lJ1T4LtmpnJU0O3S',\n",
    "}\n",
    "\n",
    "params = (\n",
    "    ('authuser', '0'),\n",
    "    ('acx-v-bv', 'awn_video_auto_20210125-0941_RC000'),\n",
    "    ('acx-v-clt', '1611690522179'),\n",
    "    ('rpcTrackingId', 'PlacementSuggestionService.Fetch:3'),\n",
    "    ('f.sid', '-3151454939494509000'),\n",
    ")\n",
    "\n",
    "data = {\n",
    "    'hl': 'en_US',\n",
    "    '__lu': '354893925',\n",
    "    '__u': '1802067325',\n",
    "    '__c': '4335588572',\n",
    "    'f.sid': '-3151454939494509000',\n",
    "    'ps': 'aw',\n",
    "    '__ar': '{\"1\":\"dogs\",\"2\":{\"1\":0,\"2\":20},\"3\":[1,4,6,5,2,3],\"4\":true,\"5\":false,\"8\":\"355895228\",\"11\":[\"US\"],\"14\":{\"1\":20}}',\n",
    "    'activityContext': 'VideoCampaignConstruction.PlacementPickerPanel.ExpansionPanel.PlacementPickerComponent.Search',\n",
    "    'requestPriority': 'HIGH_LATENCY_SENSITIVE',\n",
    "    'activityType': 'INTERACTIVE',\n",
    "    'activityId': '1678814362147311',\n",
    "    'uniqueFingerprint': '-3151454939494509000_1678814362147311_1',\n",
    "    'previousPlace': '/aw/campaigns/new/video',\n",
    "    'activityName': 'VideoCampaignConstruction.PlacementPickerPanel.ExpansionPanel.PlacementPickerComponent.Search',\n",
    "    'destinationPlace': '/aw/campaigns/new/video'\n",
    "}"
   ]
  },
  {
   "cell_type": "markdown",
   "metadata": {},
   "source": [
    "## Query the API"
   ]
  },
  {
   "cell_type": "code",
   "execution_count": 10,
   "metadata": {},
   "outputs": [
    {
     "data": {
      "text/plain": [
       "dict_keys(['social_justice', 'hate', 'policy', 'noise', 'adhoc'])"
      ]
     },
     "execution_count": 10,
     "metadata": {},
     "output_type": "execute_result"
    }
   ],
   "source": [
    "# The keyword lists are stored here.\n",
    "category2terms.keys()"
   ]
  },
  {
   "cell_type": "code",
   "execution_count": 5,
   "metadata": {},
   "outputs": [],
   "source": [
    "def query_placements_api(query, fn_out, headers, params, data):\n",
    "    \"\"\"Gets JSON from the PlacementSuggestionService API.\"\"\"\n",
    "    # format the argument\n",
    "    data['__ar'] = '{\"1\":\"'+ query +'\",\"2\":{\"1\":0,\"2\":20},\"3\":[1,4,6,5,2,3],\"4\":true,\"5\":false,\"8\":\"527682421\",\"11\":[\"US\"],\"13\":[1],\"14\":{\"1\":20}}'\n",
    "    \n",
    "    # make the request\n",
    "    response = s.post('https://ads.google.com/aw_video/_/rpc/PlacementSuggestionService/Fetch', \n",
    "                      headers=headers, params=params, data=data)\n",
    "    \n",
    "    # save the JSON request\n",
    "    with open(fn_out, 'w') as f:\n",
    "        f.write(json.dumps(response.json()))\n",
    "    time.sleep(3)"
   ]
  },
  {
   "cell_type": "code",
   "execution_count": 7,
   "metadata": {},
   "outputs": [],
   "source": [
    "# make a request for each keyword, and save the json response.\n",
    "for cat, terms in category2terms.items():\n",
    "    data_dir_ = os.path.join(f'{DATA_OUT}/{cat}')\n",
    "    os.makedirs(data_dir_, exist_ok=True)\n",
    "    for term in tqdm(terms):\n",
    "        fn_out = f'{data_dir_}/{term.lower()}.json'\n",
    "        if os.path.exists(fn_out):\n",
    "            continue\n",
    "        query_placements_api(term, fn_out, headers, params, data)"
   ]
  },
  {
   "cell_type": "markdown",
   "metadata": {},
   "source": [
    "## Re-run \"blocked\" responses without spaces\n",
    "A quick heuristic for \"blocked\" responses is checking the size. Blocked responses are just two chracters `{}`, so the size is 2."
   ]
  },
  {
   "cell_type": "code",
   "execution_count": 25,
   "metadata": {},
   "outputs": [],
   "source": [
    "blocked = []\n",
    "for fn in glob.glob(DATA_OUT + '/*/*'):\n",
    "    size = os.stat(fn).st_size\n",
    "    if size == 2:\n",
    "        blocked.append(fn)"
   ]
  },
  {
   "cell_type": "code",
   "execution_count": 26,
   "metadata": {},
   "outputs": [],
   "source": [
    "# Run this notebook if you're repeating queries...\n",
    "# blocked = [w for w in blocked if 'blocked_basewords' not in w and '/blocked/' not in w]"
   ]
  },
  {
   "cell_type": "code",
   "execution_count": 27,
   "metadata": {},
   "outputs": [
    {
     "data": {
      "text/plain": [
       "'data_1m/raw/policy/bullfighting swords in bull.json'"
      ]
     },
     "execution_count": 27,
     "metadata": {},
     "output_type": "execute_result"
    }
   ],
   "source": [
    "blocked[1]"
   ]
  },
  {
   "cell_type": "code",
   "execution_count": 30,
   "metadata": {},
   "outputs": [],
   "source": [
    "data_out_2 = f'{DATA_OUT}/blocked'\n",
    "os.makedirs(data_out_2, exist_ok=True)"
   ]
  },
  {
   "cell_type": "code",
   "execution_count": 31,
   "metadata": {},
   "outputs": [
    {
     "name": "stderr",
     "output_type": "stream",
     "text": [
      "100%|██████████| 204/204 [08:23<00:00,  2.47s/it]\n"
     ]
    }
   ],
   "source": [
    "# Query each blocked term without spaces.\n",
    "for fn in tqdm(blocked):\n",
    "    term = fn.split('/')[3].replace('.json', '')\n",
    "    new_term = term.replace(' ', '')\n",
    "    if term == new_term:\n",
    "        continue\n",
    "    fn_out = f'{data_out_2}/{term}.json'\n",
    "    if os.path.exists(fn_out):\n",
    "        continue\n",
    "    query_placements_api(new_term, fn_out, headers, params, data)"
   ]
  },
  {
   "cell_type": "markdown",
   "metadata": {},
   "source": [
    "## Blocked basewords\n",
    "Split each blocked response into base words."
   ]
  },
  {
   "cell_type": "code",
   "execution_count": 34,
   "metadata": {},
   "outputs": [
    {
     "name": "stderr",
     "output_type": "stream",
     "text": [
      "100%|██████████| 204/204 [00:00<00:00, 600447.73it/s]\n"
     ]
    }
   ],
   "source": [
    "base_words = []\n",
    "for fn in blocked:\n",
    "    term = fn.split('/')[3].replace('.json', '')\n",
    "    base_words.extend(term.split(' '))"
   ]
  },
  {
   "cell_type": "code",
   "execution_count": 35,
   "metadata": {},
   "outputs": [
    {
     "data": {
      "text/plain": [
       "263"
      ]
     },
     "execution_count": 35,
     "metadata": {},
     "output_type": "execute_result"
    }
   ],
   "source": [
    "base_words = list(set(base_words))\n",
    "len(base_words)"
   ]
  },
  {
   "cell_type": "code",
   "execution_count": 37,
   "metadata": {},
   "outputs": [],
   "source": [
    "data_out_3 = f'{DATA_OUT}/blocked_basewords'\n",
    "os.makedirs(data_out_3, exist_ok=True)"
   ]
  },
  {
   "cell_type": "code",
   "execution_count": 38,
   "metadata": {},
   "outputs": [
    {
     "name": "stderr",
     "output_type": "stream",
     "text": [
      "100%|██████████| 263/263 [20:08<00:00,  4.60s/it]\n"
     ]
    }
   ],
   "source": [
    "for term in tqdm(base_words):\n",
    "    fn_out = f'{data_out_3}/{term}.json'\n",
    "    if os.path.exists(fn_out):\n",
    "        continue\n",
    "    query_placements_api(term, fn_out, headers, params, data)"
   ]
  }
 ],
 "metadata": {
  "kernelspec": {
   "display_name": "Python 3",
   "language": "python",
   "name": "python3"
  },
  "language_info": {
   "codemirror_mode": {
    "name": "ipython",
    "version": 3
   },
   "file_extension": ".py",
   "mimetype": "text/x-python",
   "name": "python",
   "nbconvert_exporter": "python",
   "pygments_lexer": "ipython3",
   "version": "3.8.1"
  }
 },
 "nbformat": 4,
 "nbformat_minor": 4
}
