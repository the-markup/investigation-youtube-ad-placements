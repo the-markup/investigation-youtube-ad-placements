{
 "cells": [
  {
   "cell_type": "markdown",
   "metadata": {},
   "source": [
    "# Data For Hate Methodology\n",
    "Each header in this notebook corresponds to a headers in the methodology."
   ]
  },
  {
   "cell_type": "code",
   "execution_count": 1,
   "metadata": {},
   "outputs": [],
   "source": [
    "import os\n",
    "import pandas as pd\n",
    "from utils import value_counts"
   ]
  },
  {
   "cell_type": "code",
   "execution_count": 2,
   "metadata": {},
   "outputs": [],
   "source": [
    "# inputs\n",
    "fn_policy = '../data/output/placements_api_keyword_status/policy.csv'\n",
    "fn_hate = '../data/output/placements_api_keyword_status/hate.csv'\n",
    "fn_adhoc = '../data/output/placements_api_keyword_status/adhoc.csv'\n",
    "fn_basewords = '../data/output/placements_api_keyword_status/basewords.csv'\n",
    "fn_youtube_videos = '../data/output/placements_api_suggestions/videos_for_hate_terms.csv'\n",
    "fn_youtube_channels = '../data/output/placements_api_suggestions/channels_for_hate_terms.csv'\n",
    "\n",
    "# outputs\n",
    "table_dir = '../data/output/tables/hate'\n",
    "fn_table1 = '../data/output/tables/hate/table1.csv'\n",
    "fn_table2 = '../data/output/tables/hate/table2.csv'\n",
    "fn_table3a = '../data/output/tables/hate/table3a.csv'\n",
    "fn_table3b = '../data/output/tables/hate/table3b.csv'\n",
    "fn_table3a_full = '../data/output/tables/hate/table3a_full.csv'\n",
    "fn_table3b_full = '../data/output/tables/hate/table3b_full.csv'\n",
    "os.makedirs(table_dir, exist_ok=True)"
   ]
  },
  {
   "cell_type": "code",
   "execution_count": 3,
   "metadata": {},
   "outputs": [],
   "source": [
    "df_policy = pd.read_csv(fn_policy)\n",
    "df_hate = pd.read_csv(fn_hate)\n",
    "df_basewords = pd.read_csv(fn_basewords)\n",
    "df_adhoc = pd.read_csv(fn_adhoc)"
   ]
  },
  {
   "cell_type": "code",
   "execution_count": 4,
   "metadata": {},
   "outputs": [],
   "source": [
    "display_cols = ['search_term', 'status']"
   ]
  },
  {
   "cell_type": "markdown",
   "metadata": {},
   "source": [
    "## Google Ads API for Ad Placements"
   ]
  },
  {
   "cell_type": "code",
   "execution_count": 5,
   "metadata": {},
   "outputs": [
    {
     "data": {
      "text/plain": [
       "Blocked          0.753333\n",
       "Full             0.226667\n",
       "Partial Block    0.020000\n",
       "Name: status, dtype: float64"
      ]
     },
     "execution_count": 5,
     "metadata": {},
     "output_type": "execute_result"
    }
   ],
   "source": [
    "df_policy.status.value_counts(normalize=True)"
   ]
  },
  {
   "cell_type": "markdown",
   "metadata": {},
   "source": [
    "## Whats on the blocklist?"
   ]
  },
  {
   "cell_type": "code",
   "execution_count": 6,
   "metadata": {},
   "outputs": [],
   "source": [
    "col2hate_table_col = {\n",
    "    'search_term': \"Search Term\", \n",
    "    'status': \"Status for Ad Placement\",\n",
    "    'n_youtube_videos': \"N YouTube Videos\",\n",
    "    'n_youtube_channels': \"N YouTube Channels\",\n",
    "    \"additional_info_link\": \"Additional Info\"\n",
    "}"
   ]
  },
  {
   "cell_type": "code",
   "execution_count": 7,
   "metadata": {},
   "outputs": [
    {
     "data": {
      "text/html": [
       "<div>\n",
       "<style scoped>\n",
       "    .dataframe tbody tr th:only-of-type {\n",
       "        vertical-align: middle;\n",
       "    }\n",
       "\n",
       "    .dataframe tbody tr th {\n",
       "        vertical-align: top;\n",
       "    }\n",
       "\n",
       "    .dataframe thead th {\n",
       "        text-align: right;\n",
       "    }\n",
       "</style>\n",
       "<table border=\"1\" class=\"dataframe\">\n",
       "  <thead>\n",
       "    <tr style=\"text-align: right;\">\n",
       "      <th></th>\n",
       "      <th>Search Term</th>\n",
       "      <th>Status for Ad Placement</th>\n",
       "      <th>N YouTube Videos</th>\n",
       "      <th>N YouTube Channels</th>\n",
       "      <th>Additional Info</th>\n",
       "    </tr>\n",
       "  </thead>\n",
       "  <tbody>\n",
       "    <tr>\n",
       "      <th>0</th>\n",
       "      <td>it's okay to be white</td>\n",
       "      <td>Full</td>\n",
       "      <td>118249642.0</td>\n",
       "      <td>417519.0</td>\n",
       "      <td>https://www.adl.org/education/references/hate-...</td>\n",
       "    </tr>\n",
       "    <tr>\n",
       "      <th>1</th>\n",
       "      <td>white power</td>\n",
       "      <td>Full</td>\n",
       "      <td>169420977.0</td>\n",
       "      <td>377159.0</td>\n",
       "      <td>https://www.adl.org/education/references/hate-...</td>\n",
       "    </tr>\n",
       "    <tr>\n",
       "      <th>2</th>\n",
       "      <td>red ice tv</td>\n",
       "      <td>Full</td>\n",
       "      <td>93482132.0</td>\n",
       "      <td>326308.0</td>\n",
       "      <td>https://www.splcenter.org/hatewatch/2019/10/21...</td>\n",
       "    </tr>\n",
       "    <tr>\n",
       "      <th>3</th>\n",
       "      <td>black sun</td>\n",
       "      <td>Full</td>\n",
       "      <td>99052454.0</td>\n",
       "      <td>256751.0</td>\n",
       "      <td>https://www.adl.org/education/references/hate-...</td>\n",
       "    </tr>\n",
       "    <tr>\n",
       "      <th>4</th>\n",
       "      <td>14 words</td>\n",
       "      <td>Full</td>\n",
       "      <td>61142590.0</td>\n",
       "      <td>240367.0</td>\n",
       "      <td>https://www.adl.org/education/references/hate-...</td>\n",
       "    </tr>\n",
       "  </tbody>\n",
       "</table>\n",
       "</div>"
      ],
      "text/plain": [
       "             Search Term Status for Ad Placement  N YouTube Videos  \\\n",
       "0  it's okay to be white                    Full       118249642.0   \n",
       "1            white power                    Full       169420977.0   \n",
       "2             red ice tv                    Full        93482132.0   \n",
       "3              black sun                    Full        99052454.0   \n",
       "4               14 words                    Full        61142590.0   \n",
       "\n",
       "   N YouTube Channels                                    Additional Info  \n",
       "0            417519.0  https://www.adl.org/education/references/hate-...  \n",
       "1            377159.0  https://www.adl.org/education/references/hate-...  \n",
       "2            326308.0  https://www.splcenter.org/hatewatch/2019/10/21...  \n",
       "3            256751.0  https://www.adl.org/education/references/hate-...  \n",
       "4            240367.0  https://www.adl.org/education/references/hate-...  "
      ]
     },
     "execution_count": 7,
     "metadata": {},
     "output_type": "execute_result"
    }
   ],
   "source": [
    "hate_table = df_hate[[c for c in col2hate_table_col.keys()]]\n",
    "hate_table.columns = col2hate_table_col.values()\n",
    "hate_table.to_csv(fn_table1, index=False)\n",
    "hate_table.head(5)"
   ]
  },
  {
   "cell_type": "code",
   "execution_count": 8,
   "metadata": {},
   "outputs": [
    {
     "data": {
      "text/html": [
       "<div>\n",
       "<style scoped>\n",
       "    .dataframe tbody tr th:only-of-type {\n",
       "        vertical-align: middle;\n",
       "    }\n",
       "\n",
       "    .dataframe tbody tr th {\n",
       "        vertical-align: top;\n",
       "    }\n",
       "\n",
       "    .dataframe thead th {\n",
       "        text-align: right;\n",
       "    }\n",
       "</style>\n",
       "<table border=\"1\" class=\"dataframe\">\n",
       "  <thead>\n",
       "    <tr style=\"text-align: right;\">\n",
       "      <th></th>\n",
       "      <th>count</th>\n",
       "      <th>percentage</th>\n",
       "    </tr>\n",
       "  </thead>\n",
       "  <tbody>\n",
       "    <tr>\n",
       "      <th>Full</th>\n",
       "      <td>59.0</td>\n",
       "      <td>0.678161</td>\n",
       "    </tr>\n",
       "    <tr>\n",
       "      <th>Blocked</th>\n",
       "      <td>28.0</td>\n",
       "      <td>0.321839</td>\n",
       "    </tr>\n",
       "  </tbody>\n",
       "</table>\n",
       "</div>"
      ],
      "text/plain": [
       "         count  percentage\n",
       "Full      59.0    0.678161\n",
       "Blocked   28.0    0.321839"
      ]
     },
     "execution_count": 8,
     "metadata": {},
     "output_type": "execute_result"
    }
   ],
   "source": [
    "value_counts(df_hate, col='status')"
   ]
  },
  {
   "cell_type": "code",
   "execution_count": 9,
   "metadata": {},
   "outputs": [
    {
     "data": {
      "text/html": [
       "<div>\n",
       "<style scoped>\n",
       "    .dataframe tbody tr th:only-of-type {\n",
       "        vertical-align: middle;\n",
       "    }\n",
       "\n",
       "    .dataframe tbody tr th {\n",
       "        vertical-align: top;\n",
       "    }\n",
       "\n",
       "    .dataframe thead th {\n",
       "        text-align: right;\n",
       "    }\n",
       "</style>\n",
       "<table border=\"1\" class=\"dataframe\">\n",
       "  <thead>\n",
       "    <tr style=\"text-align: right;\">\n",
       "      <th></th>\n",
       "      <th>count</th>\n",
       "      <th>percentage</th>\n",
       "    </tr>\n",
       "  </thead>\n",
       "  <tbody>\n",
       "    <tr>\n",
       "      <th>Full</th>\n",
       "      <td>10.0</td>\n",
       "      <td>0.588235</td>\n",
       "    </tr>\n",
       "    <tr>\n",
       "      <th>Blocked</th>\n",
       "      <td>3.0</td>\n",
       "      <td>0.176471</td>\n",
       "    </tr>\n",
       "    <tr>\n",
       "      <th>Partial Block</th>\n",
       "      <td>3.0</td>\n",
       "      <td>0.176471</td>\n",
       "    </tr>\n",
       "    <tr>\n",
       "      <th>Empty</th>\n",
       "      <td>1.0</td>\n",
       "      <td>0.058824</td>\n",
       "    </tr>\n",
       "  </tbody>\n",
       "</table>\n",
       "</div>"
      ],
      "text/plain": [
       "               count  percentage\n",
       "Full            10.0    0.588235\n",
       "Blocked          3.0    0.176471\n",
       "Partial Block    3.0    0.176471\n",
       "Empty            1.0    0.058824"
      ]
     },
     "execution_count": 9,
     "metadata": {},
     "output_type": "execute_result"
    }
   ],
   "source": [
    "value_counts(df_hate[df_hate.search_term.str.split(' ').str.len() > 1],\n",
    "             col='status_no_spaces')"
   ]
  },
  {
   "cell_type": "code",
   "execution_count": 10,
   "metadata": {},
   "outputs": [
    {
     "data": {
      "text/plain": [
       "59    white pride worldwide\n",
       "60         holocaust denial\n",
       "61      american nazi party\n",
       "Name: search_term, dtype: object"
      ]
     },
     "execution_count": 10,
     "metadata": {},
     "output_type": "execute_result"
    }
   ],
   "source": [
    "still_blocked = df_hate[\n",
    "    (df_hate.search_term.str.split(' ').str.len() > 1) &\n",
    "    (df_hate.status_no_spaces == \"Blocked\")\n",
    "].search_term\n",
    "\n",
    "still_blocked"
   ]
  },
  {
   "cell_type": "code",
   "execution_count": 11,
   "metadata": {},
   "outputs": [],
   "source": [
    "unique_basewords = {\n",
    "    word for sent in still_blocked.tolist() for word in sent.split(' ')\n",
    "}"
   ]
  },
  {
   "cell_type": "code",
   "execution_count": 12,
   "metadata": {},
   "outputs": [
    {
     "data": {
      "text/html": [
       "<div>\n",
       "<style scoped>\n",
       "    .dataframe tbody tr th:only-of-type {\n",
       "        vertical-align: middle;\n",
       "    }\n",
       "\n",
       "    .dataframe tbody tr th {\n",
       "        vertical-align: top;\n",
       "    }\n",
       "\n",
       "    .dataframe thead th {\n",
       "        text-align: right;\n",
       "    }\n",
       "</style>\n",
       "<table border=\"1\" class=\"dataframe\">\n",
       "  <thead>\n",
       "    <tr style=\"text-align: right;\">\n",
       "      <th></th>\n",
       "      <th>search_term</th>\n",
       "      <th>status</th>\n",
       "    </tr>\n",
       "  </thead>\n",
       "  <tbody>\n",
       "    <tr>\n",
       "      <th>14</th>\n",
       "      <td>american</td>\n",
       "      <td>Full</td>\n",
       "    </tr>\n",
       "    <tr>\n",
       "      <th>36</th>\n",
       "      <td>white</td>\n",
       "      <td>Full</td>\n",
       "    </tr>\n",
       "    <tr>\n",
       "      <th>38</th>\n",
       "      <td>party</td>\n",
       "      <td>Full</td>\n",
       "    </tr>\n",
       "    <tr>\n",
       "      <th>71</th>\n",
       "      <td>worldwide</td>\n",
       "      <td>Full</td>\n",
       "    </tr>\n",
       "    <tr>\n",
       "      <th>95</th>\n",
       "      <td>pride</td>\n",
       "      <td>Full</td>\n",
       "    </tr>\n",
       "    <tr>\n",
       "      <th>124</th>\n",
       "      <td>denial</td>\n",
       "      <td>Full</td>\n",
       "    </tr>\n",
       "    <tr>\n",
       "      <th>196</th>\n",
       "      <td>nazi</td>\n",
       "      <td>Blocked</td>\n",
       "    </tr>\n",
       "    <tr>\n",
       "      <th>219</th>\n",
       "      <td>holocaust</td>\n",
       "      <td>Blocked</td>\n",
       "    </tr>\n",
       "    <tr>\n",
       "      <th>62</th>\n",
       "      <td>white pride</td>\n",
       "      <td>Blocked</td>\n",
       "    </tr>\n",
       "  </tbody>\n",
       "</table>\n",
       "</div>"
      ],
      "text/plain": [
       "     search_term   status\n",
       "14      american     Full\n",
       "36         white     Full\n",
       "38         party     Full\n",
       "71     worldwide     Full\n",
       "95         pride     Full\n",
       "124       denial     Full\n",
       "196         nazi  Blocked\n",
       "219    holocaust  Blocked\n",
       "62   white pride  Blocked"
      ]
     },
     "execution_count": 12,
     "metadata": {},
     "output_type": "execute_result"
    }
   ],
   "source": [
    "df_basewords[df_basewords.search_term.isin(unique_basewords)].append(\n",
    "    df_hate[df_hate.search_term == 'white pride']\n",
    ")[display_cols]"
   ]
  },
  {
   "cell_type": "code",
   "execution_count": 13,
   "metadata": {},
   "outputs": [
    {
     "data": {
      "text/html": [
       "<div>\n",
       "<style scoped>\n",
       "    .dataframe tbody tr th:only-of-type {\n",
       "        vertical-align: middle;\n",
       "    }\n",
       "\n",
       "    .dataframe tbody tr th {\n",
       "        vertical-align: top;\n",
       "    }\n",
       "\n",
       "    .dataframe thead th {\n",
       "        text-align: right;\n",
       "    }\n",
       "</style>\n",
       "<table border=\"1\" class=\"dataframe\">\n",
       "  <thead>\n",
       "    <tr style=\"text-align: right;\">\n",
       "      <th></th>\n",
       "      <th>search_term</th>\n",
       "      <th>status</th>\n",
       "    </tr>\n",
       "  </thead>\n",
       "  <tbody>\n",
       "    <tr>\n",
       "      <th>26</th>\n",
       "      <td>white nationalism</td>\n",
       "      <td>Full</td>\n",
       "    </tr>\n",
       "    <tr>\n",
       "      <th>64</th>\n",
       "      <td>white nationalist</td>\n",
       "      <td>Blocked</td>\n",
       "    </tr>\n",
       "    <tr>\n",
       "      <th>20</th>\n",
       "      <td>white nationalists</td>\n",
       "      <td>Full</td>\n",
       "    </tr>\n",
       "  </tbody>\n",
       "</table>\n",
       "</div>"
      ],
      "text/plain": [
       "           search_term   status\n",
       "26   white nationalism     Full\n",
       "64   white nationalist  Blocked\n",
       "20  white nationalists     Full"
      ]
     },
     "execution_count": 13,
     "metadata": {},
     "output_type": "execute_result"
    }
   ],
   "source": [
    "df_hate[df_hate.search_term.str.contains('white national')].append(\n",
    "    df_adhoc[df_adhoc.search_term.str.contains('white national')]\n",
    ")[display_cols]"
   ]
  },
  {
   "cell_type": "code",
   "execution_count": 14,
   "metadata": {},
   "outputs": [
    {
     "data": {
      "text/html": [
       "<div>\n",
       "<style scoped>\n",
       "    .dataframe tbody tr th:only-of-type {\n",
       "        vertical-align: middle;\n",
       "    }\n",
       "\n",
       "    .dataframe tbody tr th {\n",
       "        vertical-align: top;\n",
       "    }\n",
       "\n",
       "    .dataframe thead th {\n",
       "        text-align: right;\n",
       "    }\n",
       "</style>\n",
       "<table border=\"1\" class=\"dataframe\">\n",
       "  <thead>\n",
       "    <tr style=\"text-align: right;\">\n",
       "      <th></th>\n",
       "      <th>search_term</th>\n",
       "      <th>status</th>\n",
       "    </tr>\n",
       "  </thead>\n",
       "  <tbody>\n",
       "    <tr>\n",
       "      <th>161</th>\n",
       "      <td>terrorist</td>\n",
       "      <td>Blocked</td>\n",
       "    </tr>\n",
       "    <tr>\n",
       "      <th>35</th>\n",
       "      <td>recruit terrorists</td>\n",
       "      <td>Full</td>\n",
       "    </tr>\n",
       "    <tr>\n",
       "      <th>36</th>\n",
       "      <td>praise terrorists</td>\n",
       "      <td>Full</td>\n",
       "    </tr>\n",
       "    <tr>\n",
       "      <th>66</th>\n",
       "      <td>video game terrorist mod</td>\n",
       "      <td>Blocked</td>\n",
       "    </tr>\n",
       "    <tr>\n",
       "      <th>69</th>\n",
       "      <td>terrorist recruitment</td>\n",
       "      <td>Blocked</td>\n",
       "    </tr>\n",
       "    <tr>\n",
       "      <th>70</th>\n",
       "      <td>terrorist ideology</td>\n",
       "      <td>Blocked</td>\n",
       "    </tr>\n",
       "    <tr>\n",
       "      <th>71</th>\n",
       "      <td>terrorist hostages</td>\n",
       "      <td>Blocked</td>\n",
       "    </tr>\n",
       "    <tr>\n",
       "      <th>72</th>\n",
       "      <td>terrorist attack</td>\n",
       "      <td>Blocked</td>\n",
       "    </tr>\n",
       "    <tr>\n",
       "      <th>73</th>\n",
       "      <td>terrorist acts</td>\n",
       "      <td>Blocked</td>\n",
       "    </tr>\n",
       "    <tr>\n",
       "      <th>4</th>\n",
       "      <td>terrorists</td>\n",
       "      <td>Full</td>\n",
       "    </tr>\n",
       "    <tr>\n",
       "      <th>13</th>\n",
       "      <td>terrorists attack</td>\n",
       "      <td>Full</td>\n",
       "    </tr>\n",
       "    <tr>\n",
       "      <th>22</th>\n",
       "      <td>terrorists hostage</td>\n",
       "      <td>Full</td>\n",
       "    </tr>\n",
       "    <tr>\n",
       "      <th>23</th>\n",
       "      <td>terrorists acts</td>\n",
       "      <td>Full</td>\n",
       "    </tr>\n",
       "    <tr>\n",
       "      <th>25</th>\n",
       "      <td>terrorists recruitment</td>\n",
       "      <td>Full</td>\n",
       "    </tr>\n",
       "    <tr>\n",
       "      <th>36</th>\n",
       "      <td>recruit terrorist</td>\n",
       "      <td>Blocked</td>\n",
       "    </tr>\n",
       "    <tr>\n",
       "      <th>37</th>\n",
       "      <td>praise terrorist</td>\n",
       "      <td>Blocked</td>\n",
       "    </tr>\n",
       "  </tbody>\n",
       "</table>\n",
       "</div>"
      ],
      "text/plain": [
       "                  search_term   status\n",
       "161                 terrorist  Blocked\n",
       "35         recruit terrorists     Full\n",
       "36          praise terrorists     Full\n",
       "66   video game terrorist mod  Blocked\n",
       "69      terrorist recruitment  Blocked\n",
       "70         terrorist ideology  Blocked\n",
       "71         terrorist hostages  Blocked\n",
       "72           terrorist attack  Blocked\n",
       "73             terrorist acts  Blocked\n",
       "4                  terrorists     Full\n",
       "13          terrorists attack     Full\n",
       "22         terrorists hostage     Full\n",
       "23            terrorists acts     Full\n",
       "25     terrorists recruitment     Full\n",
       "36          recruit terrorist  Blocked\n",
       "37           praise terrorist  Blocked"
      ]
     },
     "execution_count": 14,
     "metadata": {},
     "output_type": "execute_result"
    }
   ],
   "source": [
    "df_basewords[df_basewords.search_term.str.contains('terrorist')].append(\n",
    "    df_policy[df_policy.search_term.str.contains('terrorist')]\n",
    ").append(\n",
    "    df_adhoc[df_adhoc.search_term.str.contains('terrorist')]\n",
    ")[display_cols]"
   ]
  },
  {
   "cell_type": "code",
   "execution_count": 15,
   "metadata": {},
   "outputs": [
    {
     "data": {
      "text/html": [
       "<div>\n",
       "<style scoped>\n",
       "    .dataframe tbody tr th:only-of-type {\n",
       "        vertical-align: middle;\n",
       "    }\n",
       "\n",
       "    .dataframe tbody tr th {\n",
       "        vertical-align: top;\n",
       "    }\n",
       "\n",
       "    .dataframe thead th {\n",
       "        text-align: right;\n",
       "    }\n",
       "</style>\n",
       "<table border=\"1\" class=\"dataframe\">\n",
       "  <thead>\n",
       "    <tr style=\"text-align: right;\">\n",
       "      <th></th>\n",
       "      <th>blocked response</th>\n",
       "      <th>full response</th>\n",
       "    </tr>\n",
       "  </thead>\n",
       "  <tbody>\n",
       "    <tr>\n",
       "      <th>62</th>\n",
       "      <td>white pride</td>\n",
       "      <td>whitepride</td>\n",
       "    </tr>\n",
       "    <tr>\n",
       "      <th>63</th>\n",
       "      <td>white pill</td>\n",
       "      <td>whitepill</td>\n",
       "    </tr>\n",
       "    <tr>\n",
       "      <th>64</th>\n",
       "      <td>white nationalist</td>\n",
       "      <td>whitenationalist</td>\n",
       "    </tr>\n",
       "    <tr>\n",
       "      <th>65</th>\n",
       "      <td>white genocide</td>\n",
       "      <td>whitegenocide</td>\n",
       "    </tr>\n",
       "    <tr>\n",
       "      <th>67</th>\n",
       "      <td>sieg heil</td>\n",
       "      <td>siegheil</td>\n",
       "    </tr>\n",
       "    <tr>\n",
       "      <th>68</th>\n",
       "      <td>radical islamic terror</td>\n",
       "      <td>radicalislamicterror</td>\n",
       "    </tr>\n",
       "    <tr>\n",
       "      <th>69</th>\n",
       "      <td>jewish question</td>\n",
       "      <td>jewishquestion</td>\n",
       "    </tr>\n",
       "    <tr>\n",
       "      <th>70</th>\n",
       "      <td>heil hitler</td>\n",
       "      <td>heilhitler</td>\n",
       "    </tr>\n",
       "    <tr>\n",
       "      <th>71</th>\n",
       "      <td>globalist jews</td>\n",
       "      <td>globalistjews</td>\n",
       "    </tr>\n",
       "    <tr>\n",
       "      <th>74</th>\n",
       "      <td>dual seedline</td>\n",
       "      <td>dualseedline</td>\n",
       "    </tr>\n",
       "  </tbody>\n",
       "</table>\n",
       "</div>"
      ],
      "text/plain": [
       "          blocked response         full response\n",
       "62             white pride            whitepride\n",
       "63              white pill             whitepill\n",
       "64       white nationalist      whitenationalist\n",
       "65          white genocide         whitegenocide\n",
       "67               sieg heil              siegheil\n",
       "68  radical islamic terror  radicalislamicterror\n",
       "69         jewish question        jewishquestion\n",
       "70             heil hitler            heilhitler\n",
       "71          globalist jews         globalistjews\n",
       "74           dual seedline          dualseedline"
      ]
     },
     "execution_count": 15,
     "metadata": {},
     "output_type": "execute_result"
    }
   ],
   "source": [
    "# multi-word blocked terms, which return full responses after spaces are removed.\n",
    "bandaids = df_hate[\n",
    "    (df_hate.status == 'Blocked') &\n",
    "    (df_hate.status_no_spaces == \"Full\")\n",
    "][['search_term']]\n",
    "\n",
    "bandaids['full response'] = bandaids['search_term'].str.replace(' ', '')\n",
    "\n",
    "bandaids.columns = ['blocked response', 'full response']\n",
    "bandaids.sort_values(by='blocked response', inplace=True, ascending=False)\n",
    "bandaids.to_csv(fn_table2, index=False)\n",
    "bandaids"
   ]
  },
  {
   "cell_type": "markdown",
   "metadata": {},
   "source": [
    "## Hate phrases vs hate content"
   ]
  },
  {
   "cell_type": "code",
   "execution_count": 16,
   "metadata": {},
   "outputs": [
    {
     "data": {
      "text/plain": [
       "1    169420977.0\n",
       "Name: n_youtube_videos, dtype: float64"
      ]
     },
     "execution_count": 16,
     "metadata": {},
     "output_type": "execute_result"
    }
   ],
   "source": [
    "df_hate[df_hate.search_term == \"white power\"].n_youtube_videos"
   ]
  },
  {
   "cell_type": "code",
   "execution_count": 17,
   "metadata": {},
   "outputs": [],
   "source": [
    "df_hate_video = pd.read_csv(fn_youtube_videos)\n",
    "df_hate_channels = pd.read_csv(fn_youtube_channels)"
   ]
  },
  {
   "cell_type": "code",
   "execution_count": 18,
   "metadata": {},
   "outputs": [
    {
     "data": {
      "text/plain": [
       "CNN                    31\n",
       "Ruptly                 29\n",
       "AP Archive             23\n",
       "The Young Turks        13\n",
       "The F/S Effect         12\n",
       "Dystopia Now           12\n",
       "Newsy                  12\n",
       "Destiny                12\n",
       "Global News            11\n",
       "CharlesFockaert        11\n",
       "VICE News              10\n",
       "Associated Press        9\n",
       "Soap - Sim Racer        9\n",
       "Journeyman Pictures     9\n",
       "NowThis News            8\n",
       "PBS NewsHour            8\n",
       "Name: youtube_video_channel, dtype: int64"
      ]
     },
     "execution_count": 18,
     "metadata": {},
     "output_type": "execute_result"
    }
   ],
   "source": [
    "channels_from_video = df_hate_video.youtube_video_channel.value_counts()\n",
    "channels_from_video.to_csv(fn_table3a_full)\n",
    "\n",
    "channels_from_video = channels_from_video[channels_from_video >= 8]\n",
    "channels_from_video.to_csv(fn_table3a)\n",
    "channels_from_video"
   ]
  },
  {
   "cell_type": "code",
   "execution_count": 19,
   "metadata": {},
   "outputs": [
    {
     "data": {
      "text/plain": [
       "act.tv                      4\n",
       "Beau of the Fifth Column    4\n",
       "VICE                        4\n",
       "Democracy Now!              4\n",
       "CinemaSins                  4\n",
       "PragerU                     4\n",
       "ContraPoints                3\n",
       "Pixel_Hipster               3\n",
       "StevenCrowder               3\n",
       "Trae Crowder                3\n",
       "Shaun                       3\n",
       "Dia Beltran                 3\n",
       "The Officer Tatum           3\n",
       "Name: youtube_channel_name, dtype: int64"
      ]
     },
     "execution_count": 19,
     "metadata": {},
     "output_type": "execute_result"
    }
   ],
   "source": [
    "channels_from_channels = df_hate_channels.youtube_channel_name.value_counts()\n",
    "channels_from_channels.to_csv(fn_table3b_full)\n",
    "\n",
    "channels_from_channels = channels_from_channels[channels_from_channels>= 3]\n",
    "channels_from_channels.to_csv(fn_table3b)\n",
    "channels_from_channels"
   ]
  }
 ],
 "metadata": {
  "kernelspec": {
   "display_name": "Python 3",
   "language": "python",
   "name": "python3"
  },
  "language_info": {
   "codemirror_mode": {
    "name": "ipython",
    "version": 3
   },
   "file_extension": ".py",
   "mimetype": "text/x-python",
   "name": "python",
   "nbconvert_exporter": "python",
   "pygments_lexer": "ipython3",
   "version": "3.8.1"
  }
 },
 "nbformat": 4,
 "nbformat_minor": 4
}
