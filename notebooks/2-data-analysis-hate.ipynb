{
 "cells": [
  {
   "cell_type": "markdown",
   "metadata": {},
   "source": [
    "# Data For Hate Methodology\n",
    "Each header in this notebook corresponds to a headers in the methodology."
   ]
  },
  {
   "cell_type": "code",
   "execution_count": 1,
   "metadata": {},
   "outputs": [],
   "source": [
    "import os\n",
    "import pandas as pd\n",
    "from utils import value_counts"
   ]
  },
  {
   "cell_type": "code",
   "execution_count": 2,
   "metadata": {},
   "outputs": [],
   "source": [
    "# inputs\n",
    "fn_policy = '../data/output/placements_api_keyword_status/policy.csv'\n",
    "fn_hate = '../data/output/placements_api_keyword_status/hate.csv'\n",
    "fn_adhoc = '../data/output/placements_api_keyword_status/adhoc.csv'\n",
    "fn_basewords = '../data/output/placements_api_keyword_status/basewords.csv'\n",
    "fn_youtube_videos = '../data/output/placements_api_suggestions/videos_for_hate_terms.csv'\n",
    "fn_youtube_channels = '../data/output/placements_api_suggestions/channels_for_hate_terms.csv'\n",
    "\n",
    "# outputs\n",
    "table_dir = '../data/output/tables/hate'\n",
    "fn_table1 = '../data/output/tables/hate/table1.csv'\n",
    "fn_table2 = '../data/output/tables/hate/table2.csv'\n",
    "fn_table3a = '../data/output/tables/hate/table3a.csv'\n",
    "fn_table3b = '../data/output/tables/hate/table3b.csv'\n",
    "fn_table3a_full = '../data/output/tables/hate/table3a_full.csv'\n",
    "fn_table3b_full = '../data/output/tables/hate/table3b_full.csv'\n",
    "os.makedirs(table_dir, exist_ok=True)"
   ]
  },
  {
   "cell_type": "code",
   "execution_count": 3,
   "metadata": {},
   "outputs": [],
   "source": [
    "df_policy = pd.read_csv(fn_policy)\n",
    "df_hate = pd.read_csv(fn_hate)\n",
    "df_basewords = pd.read_csv(fn_basewords)\n",
    "df_adhoc = pd.read_csv(fn_adhoc)"
   ]
  },
  {
   "cell_type": "code",
   "execution_count": 4,
   "metadata": {},
   "outputs": [],
   "source": [
    "display_cols = ['search_term', 'status']"
   ]
  },
  {
   "cell_type": "markdown",
   "metadata": {},
   "source": [
    "## Google Ads API for Ad Placements"
   ]
  },
  {
   "cell_type": "code",
   "execution_count": 5,
   "metadata": {},
   "outputs": [
    {
     "data": {
      "text/plain": [
       "Blocked          0.753333\n",
       "Full             0.226667\n",
       "Partial Block    0.020000\n",
       "Name: status, dtype: float64"
      ]
     },
     "execution_count": 5,
     "metadata": {},
     "output_type": "execute_result"
    }
   ],
   "source": [
    "# how many terms that YouTube saya are not advertiser-friendly are \"blocked\"?\n",
    "df_policy.status.value_counts(normalize=True)"
   ]
  },
  {
   "cell_type": "markdown",
   "metadata": {},
   "source": [
    "## Whats on the blocklist?"
   ]
  },
  {
   "cell_type": "code",
   "execution_count": 6,
   "metadata": {},
   "outputs": [],
   "source": [
    "col2hate_table_col = {\n",
    "    'search_term': \"Search Term\", \n",
    "    'status': \"Status for Ad Placement\",\n",
    "    'n_youtube_videos': \"N YouTube Videos\",\n",
    "    'n_youtube_channels': \"N YouTube Channels\",\n",
    "    \"additional_info_link\": \"Additional Info\"\n",
    "}"
   ]
  },
  {
   "cell_type": "code",
   "execution_count": 7,
   "metadata": {},
   "outputs": [
    {
     "data": {
      "text/html": [
       "<div>\n",
       "<style scoped>\n",
       "    .dataframe tbody tr th:only-of-type {\n",
       "        vertical-align: middle;\n",
       "    }\n",
       "\n",
       "    .dataframe tbody tr th {\n",
       "        vertical-align: top;\n",
       "    }\n",
       "\n",
       "    .dataframe thead th {\n",
       "        text-align: right;\n",
       "    }\n",
       "</style>\n",
       "<table border=\"1\" class=\"dataframe\">\n",
       "  <thead>\n",
       "    <tr style=\"text-align: right;\">\n",
       "      <th></th>\n",
       "      <th>Search Term</th>\n",
       "      <th>Status for Ad Placement</th>\n",
       "      <th>N YouTube Videos</th>\n",
       "      <th>N YouTube Channels</th>\n",
       "      <th>Additional Info</th>\n",
       "    </tr>\n",
       "  </thead>\n",
       "  <tbody>\n",
       "    <tr>\n",
       "      <th>0</th>\n",
       "      <td>14 words</td>\n",
       "      <td>Full</td>\n",
       "      <td>61142590.0</td>\n",
       "      <td>240367.0</td>\n",
       "      <td>https://www.adl.org/education/references/hate-...</td>\n",
       "    </tr>\n",
       "    <tr>\n",
       "      <th>1</th>\n",
       "      <td>2083: a european declaration of independence</td>\n",
       "      <td>Full</td>\n",
       "      <td>32.0</td>\n",
       "      <td>0.0</td>\n",
       "      <td>https://www.splcenter.org/hatewatch/2011/07/24...</td>\n",
       "    </tr>\n",
       "    <tr>\n",
       "      <th>2</th>\n",
       "      <td>alt-lite</td>\n",
       "      <td>Full</td>\n",
       "      <td>15269138.0</td>\n",
       "      <td>150.0</td>\n",
       "      <td>https://www.adl.org/resources/backgrounders/fr...</td>\n",
       "    </tr>\n",
       "    <tr>\n",
       "      <th>3</th>\n",
       "      <td>alt-right</td>\n",
       "      <td>Full</td>\n",
       "      <td>15276072.0</td>\n",
       "      <td>21880.0</td>\n",
       "      <td>https://www.adl.org/resources/backgrounders/fr...</td>\n",
       "    </tr>\n",
       "    <tr>\n",
       "      <th>4</th>\n",
       "      <td>american front</td>\n",
       "      <td>Full</td>\n",
       "      <td>67677338.0</td>\n",
       "      <td>83682.0</td>\n",
       "      <td>https://www.adl.org/education/references/hate-...</td>\n",
       "    </tr>\n",
       "  </tbody>\n",
       "</table>\n",
       "</div>"
      ],
      "text/plain": [
       "                                    Search Term Status for Ad Placement  \\\n",
       "0                                      14 words                    Full   \n",
       "1  2083: a european declaration of independence                    Full   \n",
       "2                                      alt-lite                    Full   \n",
       "3                                     alt-right                    Full   \n",
       "4                                american front                    Full   \n",
       "\n",
       "   N YouTube Videos  N YouTube Channels  \\\n",
       "0        61142590.0            240367.0   \n",
       "1              32.0                 0.0   \n",
       "2        15269138.0               150.0   \n",
       "3        15276072.0             21880.0   \n",
       "4        67677338.0             83682.0   \n",
       "\n",
       "                                     Additional Info  \n",
       "0  https://www.adl.org/education/references/hate-...  \n",
       "1  https://www.splcenter.org/hatewatch/2011/07/24...  \n",
       "2  https://www.adl.org/resources/backgrounders/fr...  \n",
       "3  https://www.adl.org/resources/backgrounders/fr...  \n",
       "4  https://www.adl.org/education/references/hate-...  "
      ]
     },
     "execution_count": 7,
     "metadata": {},
     "output_type": "execute_result"
    }
   ],
   "source": [
    "hate_table = df_hate[[c for c in col2hate_table_col.keys()]]\n",
    "hate_table.columns = col2hate_table_col.values()\n",
    "hate_table.to_csv(fn_table1, index=False)\n",
    "hate_table.head(5)"
   ]
  },
  {
   "cell_type": "code",
   "execution_count": 8,
   "metadata": {},
   "outputs": [
    {
     "data": {
      "text/html": [
       "<div>\n",
       "<style scoped>\n",
       "    .dataframe tbody tr th:only-of-type {\n",
       "        vertical-align: middle;\n",
       "    }\n",
       "\n",
       "    .dataframe tbody tr th {\n",
       "        vertical-align: top;\n",
       "    }\n",
       "\n",
       "    .dataframe thead th {\n",
       "        text-align: right;\n",
       "    }\n",
       "</style>\n",
       "<table border=\"1\" class=\"dataframe\">\n",
       "  <thead>\n",
       "    <tr style=\"text-align: right;\">\n",
       "      <th></th>\n",
       "      <th>count</th>\n",
       "      <th>percentage</th>\n",
       "    </tr>\n",
       "  </thead>\n",
       "  <tbody>\n",
       "    <tr>\n",
       "      <th>Full</th>\n",
       "      <td>59</td>\n",
       "      <td>0.678161</td>\n",
       "    </tr>\n",
       "    <tr>\n",
       "      <th>Blocked</th>\n",
       "      <td>28</td>\n",
       "      <td>0.321839</td>\n",
       "    </tr>\n",
       "  </tbody>\n",
       "</table>\n",
       "</div>"
      ],
      "text/plain": [
       "         count  percentage\n",
       "Full        59    0.678161\n",
       "Blocked     28    0.321839"
      ]
     },
     "execution_count": 8,
     "metadata": {},
     "output_type": "execute_result"
    }
   ],
   "source": [
    "# what are the statuses of un-altered hate terms?\n",
    "value_counts(df_hate, col='status')"
   ]
  },
  {
   "cell_type": "code",
   "execution_count": 9,
   "metadata": {},
   "outputs": [
    {
     "data": {
      "text/html": [
       "<div>\n",
       "<style scoped>\n",
       "    .dataframe tbody tr th:only-of-type {\n",
       "        vertical-align: middle;\n",
       "    }\n",
       "\n",
       "    .dataframe tbody tr th {\n",
       "        vertical-align: top;\n",
       "    }\n",
       "\n",
       "    .dataframe thead th {\n",
       "        text-align: right;\n",
       "    }\n",
       "</style>\n",
       "<table border=\"1\" class=\"dataframe\">\n",
       "  <thead>\n",
       "    <tr style=\"text-align: right;\">\n",
       "      <th></th>\n",
       "      <th>count</th>\n",
       "      <th>percentage</th>\n",
       "    </tr>\n",
       "  </thead>\n",
       "  <tbody>\n",
       "    <tr>\n",
       "      <th>Full</th>\n",
       "      <td>10</td>\n",
       "      <td>0.588235</td>\n",
       "    </tr>\n",
       "    <tr>\n",
       "      <th>Partial Block</th>\n",
       "      <td>3</td>\n",
       "      <td>0.176471</td>\n",
       "    </tr>\n",
       "    <tr>\n",
       "      <th>Blocked</th>\n",
       "      <td>3</td>\n",
       "      <td>0.176471</td>\n",
       "    </tr>\n",
       "    <tr>\n",
       "      <th>Empty</th>\n",
       "      <td>1</td>\n",
       "      <td>0.058824</td>\n",
       "    </tr>\n",
       "  </tbody>\n",
       "</table>\n",
       "</div>"
      ],
      "text/plain": [
       "               count  percentage\n",
       "Full              10    0.588235\n",
       "Partial Block      3    0.176471\n",
       "Blocked            3    0.176471\n",
       "Empty              1    0.058824"
      ]
     },
     "execution_count": 9,
     "metadata": {},
     "output_type": "execute_result"
    }
   ],
   "source": [
    "# what are the statuses from multi-word terms with spaces removed?\n",
    "value_counts(df_hate[df_hate.search_term.str.split(' ').str.len() > 1],\n",
    "             col='status_no_spaces')"
   ]
  },
  {
   "cell_type": "code",
   "execution_count": 10,
   "metadata": {},
   "outputs": [
    {
     "data": {
      "text/plain": [
       "59      american nazi party\n",
       "68         holocaust denial\n",
       "86    white pride worldwide\n",
       "Name: search_term, dtype: object"
      ]
     },
     "execution_count": 10,
     "metadata": {},
     "output_type": "execute_result"
    }
   ],
   "source": [
    "# what is still blocked after removing spaces?\n",
    "still_blocked = df_hate[\n",
    "    (df_hate.search_term.str.split(' ').str.len() > 1) &\n",
    "    (df_hate.status_no_spaces == \"Blocked\")\n",
    "].search_term\n",
    "\n",
    "still_blocked"
   ]
  },
  {
   "cell_type": "code",
   "execution_count": 11,
   "metadata": {},
   "outputs": [],
   "source": [
    "unique_basewords = {\n",
    "    word for sent in still_blocked.tolist() for word in sent.split(' ')\n",
    "}"
   ]
  },
  {
   "cell_type": "code",
   "execution_count": 12,
   "metadata": {},
   "outputs": [
    {
     "data": {
      "text/html": [
       "<div>\n",
       "<style scoped>\n",
       "    .dataframe tbody tr th:only-of-type {\n",
       "        vertical-align: middle;\n",
       "    }\n",
       "\n",
       "    .dataframe tbody tr th {\n",
       "        vertical-align: top;\n",
       "    }\n",
       "\n",
       "    .dataframe thead th {\n",
       "        text-align: right;\n",
       "    }\n",
       "</style>\n",
       "<table border=\"1\" class=\"dataframe\">\n",
       "  <thead>\n",
       "    <tr style=\"text-align: right;\">\n",
       "      <th></th>\n",
       "      <th>search_term</th>\n",
       "      <th>status</th>\n",
       "    </tr>\n",
       "  </thead>\n",
       "  <tbody>\n",
       "    <tr>\n",
       "      <th>4</th>\n",
       "      <td>american</td>\n",
       "      <td>Full</td>\n",
       "    </tr>\n",
       "    <tr>\n",
       "      <th>27</th>\n",
       "      <td>denial</td>\n",
       "      <td>Full</td>\n",
       "    </tr>\n",
       "    <tr>\n",
       "      <th>92</th>\n",
       "      <td>party</td>\n",
       "      <td>Full</td>\n",
       "    </tr>\n",
       "    <tr>\n",
       "      <th>100</th>\n",
       "      <td>pride</td>\n",
       "      <td>Full</td>\n",
       "    </tr>\n",
       "    <tr>\n",
       "      <th>141</th>\n",
       "      <td>white</td>\n",
       "      <td>Full</td>\n",
       "    </tr>\n",
       "    <tr>\n",
       "      <th>144</th>\n",
       "      <td>worldwide</td>\n",
       "      <td>Full</td>\n",
       "    </tr>\n",
       "    <tr>\n",
       "      <th>196</th>\n",
       "      <td>holocaust</td>\n",
       "      <td>Blocked</td>\n",
       "    </tr>\n",
       "    <tr>\n",
       "      <th>219</th>\n",
       "      <td>nazi</td>\n",
       "      <td>Blocked</td>\n",
       "    </tr>\n",
       "    <tr>\n",
       "      <th>85</th>\n",
       "      <td>white pride</td>\n",
       "      <td>Blocked</td>\n",
       "    </tr>\n",
       "  </tbody>\n",
       "</table>\n",
       "</div>"
      ],
      "text/plain": [
       "     search_term   status\n",
       "4       american     Full\n",
       "27        denial     Full\n",
       "92         party     Full\n",
       "100        pride     Full\n",
       "141        white     Full\n",
       "144    worldwide     Full\n",
       "196    holocaust  Blocked\n",
       "219         nazi  Blocked\n",
       "85   white pride  Blocked"
      ]
     },
     "execution_count": 12,
     "metadata": {},
     "output_type": "execute_result"
    }
   ],
   "source": [
    "# among those three terms, which base words are blocked?\n",
    "df_basewords[df_basewords.search_term.isin(unique_basewords)].append(\n",
    "    df_hate[df_hate.search_term == 'white pride']\n",
    ")[display_cols]"
   ]
  },
  {
   "cell_type": "code",
   "execution_count": 13,
   "metadata": {},
   "outputs": [
    {
     "data": {
      "text/html": [
       "<div>\n",
       "<style scoped>\n",
       "    .dataframe tbody tr th:only-of-type {\n",
       "        vertical-align: middle;\n",
       "    }\n",
       "\n",
       "    .dataframe tbody tr th {\n",
       "        vertical-align: top;\n",
       "    }\n",
       "\n",
       "    .dataframe thead th {\n",
       "        text-align: right;\n",
       "    }\n",
       "</style>\n",
       "<table border=\"1\" class=\"dataframe\">\n",
       "  <thead>\n",
       "    <tr style=\"text-align: right;\">\n",
       "      <th></th>\n",
       "      <th>search_term</th>\n",
       "      <th>status</th>\n",
       "    </tr>\n",
       "  </thead>\n",
       "  <tbody>\n",
       "    <tr>\n",
       "      <th>53</th>\n",
       "      <td>white nationalism</td>\n",
       "      <td>Full</td>\n",
       "    </tr>\n",
       "    <tr>\n",
       "      <th>83</th>\n",
       "      <td>white nationalist</td>\n",
       "      <td>Blocked</td>\n",
       "    </tr>\n",
       "    <tr>\n",
       "      <th>25</th>\n",
       "      <td>white nationalists</td>\n",
       "      <td>Full</td>\n",
       "    </tr>\n",
       "  </tbody>\n",
       "</table>\n",
       "</div>"
      ],
      "text/plain": [
       "           search_term   status\n",
       "53   white nationalism     Full\n",
       "83   white nationalist  Blocked\n",
       "25  white nationalists     Full"
      ]
     },
     "execution_count": 13,
     "metadata": {},
     "output_type": "execute_result"
    }
   ],
   "source": [
    "# white nationalist vs -ists and -ism\n",
    "df_hate[df_hate.search_term.str.contains('white national')].append(\n",
    "    df_adhoc[df_adhoc.search_term.str.contains('white national')]\n",
    ")[display_cols]"
   ]
  },
  {
   "cell_type": "code",
   "execution_count": 14,
   "metadata": {},
   "outputs": [
    {
     "data": {
      "text/html": [
       "<div>\n",
       "<style scoped>\n",
       "    .dataframe tbody tr th:only-of-type {\n",
       "        vertical-align: middle;\n",
       "    }\n",
       "\n",
       "    .dataframe tbody tr th {\n",
       "        vertical-align: top;\n",
       "    }\n",
       "\n",
       "    .dataframe thead th {\n",
       "        text-align: right;\n",
       "    }\n",
       "</style>\n",
       "<table border=\"1\" class=\"dataframe\">\n",
       "  <thead>\n",
       "    <tr style=\"text-align: right;\">\n",
       "      <th></th>\n",
       "      <th>search_term</th>\n",
       "      <th>status</th>\n",
       "    </tr>\n",
       "  </thead>\n",
       "  <tbody>\n",
       "    <tr>\n",
       "      <th>254</th>\n",
       "      <td>terrorist</td>\n",
       "      <td>Blocked</td>\n",
       "    </tr>\n",
       "    <tr>\n",
       "      <th>24</th>\n",
       "      <td>praise terrorists</td>\n",
       "      <td>Full</td>\n",
       "    </tr>\n",
       "    <tr>\n",
       "      <th>26</th>\n",
       "      <td>recruit terrorists</td>\n",
       "      <td>Full</td>\n",
       "    </tr>\n",
       "    <tr>\n",
       "      <th>136</th>\n",
       "      <td>terrorist acts</td>\n",
       "      <td>Blocked</td>\n",
       "    </tr>\n",
       "    <tr>\n",
       "      <th>137</th>\n",
       "      <td>terrorist attack</td>\n",
       "      <td>Blocked</td>\n",
       "    </tr>\n",
       "    <tr>\n",
       "      <th>138</th>\n",
       "      <td>terrorist hostages</td>\n",
       "      <td>Blocked</td>\n",
       "    </tr>\n",
       "    <tr>\n",
       "      <th>139</th>\n",
       "      <td>terrorist ideology</td>\n",
       "      <td>Blocked</td>\n",
       "    </tr>\n",
       "    <tr>\n",
       "      <th>140</th>\n",
       "      <td>terrorist recruitment</td>\n",
       "      <td>Blocked</td>\n",
       "    </tr>\n",
       "    <tr>\n",
       "      <th>147</th>\n",
       "      <td>video game terrorist mod</td>\n",
       "      <td>Blocked</td>\n",
       "    </tr>\n",
       "    <tr>\n",
       "      <th>18</th>\n",
       "      <td>terrorists</td>\n",
       "      <td>Full</td>\n",
       "    </tr>\n",
       "    <tr>\n",
       "      <th>19</th>\n",
       "      <td>terrorists acts</td>\n",
       "      <td>Full</td>\n",
       "    </tr>\n",
       "    <tr>\n",
       "      <th>20</th>\n",
       "      <td>terrorists attack</td>\n",
       "      <td>Full</td>\n",
       "    </tr>\n",
       "    <tr>\n",
       "      <th>21</th>\n",
       "      <td>terrorists hostage</td>\n",
       "      <td>Full</td>\n",
       "    </tr>\n",
       "    <tr>\n",
       "      <th>22</th>\n",
       "      <td>terrorists recruitment</td>\n",
       "      <td>Full</td>\n",
       "    </tr>\n",
       "    <tr>\n",
       "      <th>56</th>\n",
       "      <td>praise terrorist</td>\n",
       "      <td>Blocked</td>\n",
       "    </tr>\n",
       "    <tr>\n",
       "      <th>57</th>\n",
       "      <td>recruit terrorist</td>\n",
       "      <td>Blocked</td>\n",
       "    </tr>\n",
       "  </tbody>\n",
       "</table>\n",
       "</div>"
      ],
      "text/plain": [
       "                  search_term   status\n",
       "254                 terrorist  Blocked\n",
       "24          praise terrorists     Full\n",
       "26         recruit terrorists     Full\n",
       "136            terrorist acts  Blocked\n",
       "137          terrorist attack  Blocked\n",
       "138        terrorist hostages  Blocked\n",
       "139        terrorist ideology  Blocked\n",
       "140     terrorist recruitment  Blocked\n",
       "147  video game terrorist mod  Blocked\n",
       "18                 terrorists     Full\n",
       "19            terrorists acts     Full\n",
       "20          terrorists attack     Full\n",
       "21         terrorists hostage     Full\n",
       "22     terrorists recruitment     Full\n",
       "56           praise terrorist  Blocked\n",
       "57          recruit terrorist  Blocked"
      ]
     },
     "execution_count": 14,
     "metadata": {},
     "output_type": "execute_result"
    }
   ],
   "source": [
    "# \"terrorists\" vs \"terrorist\"\n",
    "df_basewords[df_basewords.search_term.str.contains('terrorist')].append(\n",
    "    df_policy[df_policy.search_term.str.contains('terrorist')]\n",
    ").append(\n",
    "    df_adhoc[df_adhoc.search_term.str.contains('terrorist')]\n",
    ")[display_cols]"
   ]
  },
  {
   "cell_type": "code",
   "execution_count": 15,
   "metadata": {},
   "outputs": [
    {
     "data": {
      "text/html": [
       "<div>\n",
       "<style scoped>\n",
       "    .dataframe tbody tr th:only-of-type {\n",
       "        vertical-align: middle;\n",
       "    }\n",
       "\n",
       "    .dataframe tbody tr th {\n",
       "        vertical-align: top;\n",
       "    }\n",
       "\n",
       "    .dataframe thead th {\n",
       "        text-align: right;\n",
       "    }\n",
       "</style>\n",
       "<table border=\"1\" class=\"dataframe\">\n",
       "  <thead>\n",
       "    <tr style=\"text-align: right;\">\n",
       "      <th></th>\n",
       "      <th>blocked response</th>\n",
       "      <th>full response</th>\n",
       "    </tr>\n",
       "  </thead>\n",
       "  <tbody>\n",
       "    <tr>\n",
       "      <th>85</th>\n",
       "      <td>white pride</td>\n",
       "      <td>whitepride</td>\n",
       "    </tr>\n",
       "    <tr>\n",
       "      <th>84</th>\n",
       "      <td>white pill</td>\n",
       "      <td>whitepill</td>\n",
       "    </tr>\n",
       "    <tr>\n",
       "      <th>83</th>\n",
       "      <td>white nationalist</td>\n",
       "      <td>whitenationalist</td>\n",
       "    </tr>\n",
       "    <tr>\n",
       "      <th>82</th>\n",
       "      <td>white genocide</td>\n",
       "      <td>whitegenocide</td>\n",
       "    </tr>\n",
       "    <tr>\n",
       "      <th>78</th>\n",
       "      <td>sieg heil</td>\n",
       "      <td>siegheil</td>\n",
       "    </tr>\n",
       "    <tr>\n",
       "      <th>77</th>\n",
       "      <td>radical islamic terror</td>\n",
       "      <td>radicalislamicterror</td>\n",
       "    </tr>\n",
       "    <tr>\n",
       "      <th>70</th>\n",
       "      <td>jewish question</td>\n",
       "      <td>jewishquestion</td>\n",
       "    </tr>\n",
       "    <tr>\n",
       "      <th>67</th>\n",
       "      <td>heil hitler</td>\n",
       "      <td>heilhitler</td>\n",
       "    </tr>\n",
       "    <tr>\n",
       "      <th>65</th>\n",
       "      <td>globalist jews</td>\n",
       "      <td>globalistjews</td>\n",
       "    </tr>\n",
       "    <tr>\n",
       "      <th>62</th>\n",
       "      <td>dual seedline</td>\n",
       "      <td>dualseedline</td>\n",
       "    </tr>\n",
       "  </tbody>\n",
       "</table>\n",
       "</div>"
      ],
      "text/plain": [
       "          blocked response         full response\n",
       "85             white pride            whitepride\n",
       "84              white pill             whitepill\n",
       "83       white nationalist      whitenationalist\n",
       "82          white genocide         whitegenocide\n",
       "78               sieg heil              siegheil\n",
       "77  radical islamic terror  radicalislamicterror\n",
       "70         jewish question        jewishquestion\n",
       "67             heil hitler            heilhitler\n",
       "65          globalist jews         globalistjews\n",
       "62           dual seedline          dualseedline"
      ]
     },
     "execution_count": 15,
     "metadata": {},
     "output_type": "execute_result"
    }
   ],
   "source": [
    "# multi-word blocked terms, which return full responses after spaces are removed.\n",
    "bandaids = df_hate[\n",
    "    (df_hate.status == 'Blocked') &\n",
    "    (df_hate.status_no_spaces == \"Full\")\n",
    "][['search_term']]\n",
    "\n",
    "bandaids['full response'] = bandaids['search_term'].str.replace(' ', '')\n",
    "\n",
    "bandaids.columns = ['blocked response', 'full response']\n",
    "bandaids.sort_values(by='blocked response', inplace=True, ascending=False)\n",
    "bandaids.to_csv(fn_table2, index=False)\n",
    "bandaids"
   ]
  },
  {
   "cell_type": "markdown",
   "metadata": {},
   "source": [
    "## Hate phrases vs hate content"
   ]
  },
  {
   "cell_type": "code",
   "execution_count": 16,
   "metadata": {},
   "outputs": [
    {
     "data": {
      "text/plain": [
       "54    169420977.0\n",
       "Name: n_youtube_videos, dtype: float64"
      ]
     },
     "execution_count": 16,
     "metadata": {},
     "output_type": "execute_result"
    }
   ],
   "source": [
    "df_hate[df_hate.search_term == \"white power\"].n_youtube_videos"
   ]
  },
  {
   "cell_type": "code",
   "execution_count": 17,
   "metadata": {},
   "outputs": [],
   "source": [
    "df_hate_video = pd.read_csv(fn_youtube_videos)\n",
    "df_hate_channels = pd.read_csv(fn_youtube_channels)"
   ]
  },
  {
   "cell_type": "code",
   "execution_count": 18,
   "metadata": {},
   "outputs": [
    {
     "data": {
      "text/plain": [
       "CNN                    27\n",
       "Ruptly                 24\n",
       "AP Archive             18\n",
       "Dystopia Now           12\n",
       "The F/S Effect         12\n",
       "Destiny                12\n",
       "Newsy                  11\n",
       "The Young Turks        10\n",
       "Global News            10\n",
       "Soap - Sim Racer        9\n",
       "Journeyman Pictures     8\n",
       "VICE News               8\n",
       "NowThis News            8\n",
       "Name: youtube_video_channel, dtype: int64"
      ]
     },
     "execution_count": 18,
     "metadata": {},
     "output_type": "execute_result"
    }
   ],
   "source": [
    "# top channels from suggested videos\n",
    "channels_from_video = df_hate_video.youtube_video_channel.value_counts()\n",
    "channels_from_video.to_csv(fn_table3a_full)\n",
    "\n",
    "channels_from_video = channels_from_video[channels_from_video >= 8]\n",
    "channels_from_video.to_csv(fn_table3a)\n",
    "channels_from_video"
   ]
  },
  {
   "cell_type": "code",
   "execution_count": 19,
   "metadata": {},
   "outputs": [
    {
     "data": {
      "text/plain": [
       "CinemaSins                  4\n",
       "PragerU                     4\n",
       "Beau of the Fifth Column    4\n",
       "VICE                        4\n",
       "Democracy Now!              4\n",
       "act.tv                      3\n",
       "Trae Crowder                3\n",
       "Pixel_Hipster               3\n",
       "StevenCrowder               3\n",
       "Dia Beltran                 3\n",
       "The Officer Tatum           3\n",
       "ContraPoints                3\n",
       "Name: youtube_channel_name, dtype: int64"
      ]
     },
     "execution_count": 19,
     "metadata": {},
     "output_type": "execute_result"
    }
   ],
   "source": [
    "# top channels from suggested channels\n",
    "channels_from_channels = df_hate_channels.youtube_channel_name.value_counts()\n",
    "channels_from_channels.to_csv(fn_table3b_full)\n",
    "\n",
    "channels_from_channels = channels_from_channels[channels_from_channels>= 3]\n",
    "channels_from_channels.to_csv(fn_table3b)\n",
    "channels_from_channels"
   ]
  }
 ],
 "metadata": {
  "kernelspec": {
   "display_name": "Python 3",
   "language": "python",
   "name": "python3"
  },
  "language_info": {
   "codemirror_mode": {
    "name": "ipython",
    "version": 3
   },
   "file_extension": ".py",
   "mimetype": "text/x-python",
   "name": "python",
   "nbconvert_exporter": "python",
   "pygments_lexer": "ipython3",
   "version": "3.8.1"
  }
 },
 "nbformat": 4,
 "nbformat_minor": 4
}
