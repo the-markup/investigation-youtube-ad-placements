{
 "cells": [
  {
   "cell_type": "markdown",
   "metadata": {},
   "source": [
    "# Data For Hate Methodology\n",
    "Each header in this notebook corresponds to a headers in the methodology."
   ]
  },
  {
   "cell_type": "code",
   "execution_count": 1,
   "metadata": {},
   "outputs": [],
   "source": [
    "import os\n",
    "import pandas as pd\n",
    "from utils import value_counts"
   ]
  },
  {
   "cell_type": "code",
   "execution_count": 2,
   "metadata": {},
   "outputs": [],
   "source": [
    "# inputs\n",
    "fn_policy = '../data/output/placements_api_keyword_status/policy.csv'\n",
    "fn_hate = '../data/output/placements_api_keyword_status/hate.csv'\n",
    "fn_adhoc = '../data/output/placements_api_keyword_status/adhoc.csv'\n",
    "fn_basewords = '../data/output/placements_api_keyword_status/basewords.csv'\n",
    "fn_youtube_videos = '../data/output/placements_api_suggestions/videos_for_hate_terms.csv'\n",
    "fn_youtube_channels = '../data/output/placements_api_suggestions/channels_for_hate_terms.csv'\n",
    "\n",
    "# outputs\n",
    "table_dir = '../data/output/tables/hate'\n",
    "fn_table1 = '../data/output/tables/hate/table1.csv'\n",
    "fn_table2 = '../data/output/tables/hate/table2.csv'\n",
    "fn_table3a = '../data/output/tables/hate/table3a.csv'\n",
    "fn_table3b = '../data/output/tables/hate/table3b.csv'\n",
    "fn_table3a_full = '../data/output/tables/hate/table3a_full.csv'\n",
    "fn_table3b_full = '../data/output/tables/hate/table3b_full.csv'\n",
    "os.makedirs(table_dir, exist_ok=True)"
   ]
  },
  {
   "cell_type": "code",
   "execution_count": 3,
   "metadata": {},
   "outputs": [],
   "source": [
    "# columns we'll display in the notebook\n",
    "display_cols = ['search_term', 'status']"
   ]
  },
  {
   "cell_type": "code",
   "execution_count": 4,
   "metadata": {},
   "outputs": [],
   "source": [
    "df_policy = pd.read_csv(fn_policy)\n",
    "df_hate = pd.read_csv(fn_hate)\n",
    "df_basewords = pd.read_csv(fn_basewords)\n",
    "df_adhoc = pd.read_csv(fn_adhoc)"
   ]
  },
  {
   "cell_type": "markdown",
   "metadata": {},
   "source": [
    "## Google Ads API for Ad Placements"
   ]
  },
  {
   "cell_type": "code",
   "execution_count": 5,
   "metadata": {},
   "outputs": [
    {
     "data": {
      "text/plain": [
       "Blocked          0.753333\n",
       "Full             0.226667\n",
       "Partial Block    0.020000\n",
       "Name: status, dtype: float64"
      ]
     },
     "execution_count": 5,
     "metadata": {},
     "output_type": "execute_result"
    }
   ],
   "source": [
    "# how many terms that YouTube saya are not advertiser-friendly are \"blocked\"?\n",
    "df_policy.status.value_counts(normalize=True)"
   ]
  },
  {
   "cell_type": "markdown",
   "metadata": {},
   "source": [
    "Examples of `Full`, `Blocked`, and `Partial Block` terms:"
   ]
  },
  {
   "cell_type": "code",
   "execution_count": 6,
   "metadata": {},
   "outputs": [
    {
     "data": {
      "text/plain": [
       "['domestic violence', 'praise terrorists', 'pipe bomb']"
      ]
     },
     "execution_count": 6,
     "metadata": {},
     "output_type": "execute_result"
    }
   ],
   "source": [
    "(df_policy[df_policy.status == 'Full']\n",
    "    .sample(3, random_state=303)\n",
    "    .search_term.tolist())"
   ]
  },
  {
   "cell_type": "code",
   "execution_count": 7,
   "metadata": {},
   "outputs": [
    {
     "data": {
      "text/plain": [
       "['3d print guns', 'dramatized rape scenes', 'make high capacity ammunition']"
      ]
     },
     "execution_count": 7,
     "metadata": {},
     "output_type": "execute_result"
    }
   ],
   "source": [
    "(df_policy[df_policy.status == 'Blocked']\n",
    "    .sample(3, random_state=303)\n",
    "    .search_term.tolist())"
   ]
  },
  {
   "cell_type": "code",
   "execution_count": 8,
   "metadata": {},
   "outputs": [
    {
     "data": {
      "text/plain": [
       "['disparaging', 'dogfighting', 'cannibalism']"
      ]
     },
     "execution_count": 8,
     "metadata": {},
     "output_type": "execute_result"
    }
   ],
   "source": [
    "(df_policy[df_policy.status == 'Partial Block']\n",
    "    .sample(3, random_state=303)\n",
    "    .search_term.tolist())"
   ]
  },
  {
   "cell_type": "markdown",
   "metadata": {},
   "source": [
    "## Whats on the blocklist?"
   ]
  },
  {
   "cell_type": "code",
   "execution_count": 9,
   "metadata": {},
   "outputs": [],
   "source": [
    "col2hate_table_col = {\n",
    "    'search_term': \"Search Term\", \n",
    "    'status': \"Status for Ad Placement\",\n",
    "    'n_youtube_videos': \"N YouTube Videos\",\n",
    "    'n_youtube_channels': \"N YouTube Channels\",\n",
    "    \"background_info_link\": \"Background Info\"\n",
    "}"
   ]
  },
  {
   "cell_type": "code",
   "execution_count": 10,
   "metadata": {},
   "outputs": [
    {
     "data": {
      "text/html": [
       "<div>\n",
       "<style scoped>\n",
       "    .dataframe tbody tr th:only-of-type {\n",
       "        vertical-align: middle;\n",
       "    }\n",
       "\n",
       "    .dataframe tbody tr th {\n",
       "        vertical-align: top;\n",
       "    }\n",
       "\n",
       "    .dataframe thead th {\n",
       "        text-align: right;\n",
       "    }\n",
       "</style>\n",
       "<table border=\"1\" class=\"dataframe\">\n",
       "  <thead>\n",
       "    <tr style=\"text-align: right;\">\n",
       "      <th></th>\n",
       "      <th>Search Term</th>\n",
       "      <th>Status for Ad Placement</th>\n",
       "      <th>N YouTube Videos</th>\n",
       "      <th>N YouTube Channels</th>\n",
       "      <th>Background Info</th>\n",
       "    </tr>\n",
       "  </thead>\n",
       "  <tbody>\n",
       "    <tr>\n",
       "      <th>0</th>\n",
       "      <td>14 words</td>\n",
       "      <td>Full</td>\n",
       "      <td>61142590.0</td>\n",
       "      <td>240367.0</td>\n",
       "      <td>https://www.adl.org/education/references/hate-...</td>\n",
       "    </tr>\n",
       "    <tr>\n",
       "      <th>1</th>\n",
       "      <td>2083: a european declaration of independence</td>\n",
       "      <td>Full</td>\n",
       "      <td>32.0</td>\n",
       "      <td>0.0</td>\n",
       "      <td>https://www.splcenter.org/hatewatch/2011/07/24...</td>\n",
       "    </tr>\n",
       "    <tr>\n",
       "      <th>2</th>\n",
       "      <td>alt-lite</td>\n",
       "      <td>Full</td>\n",
       "      <td>15269138.0</td>\n",
       "      <td>150.0</td>\n",
       "      <td>https://www.adl.org/resources/backgrounders/fr...</td>\n",
       "    </tr>\n",
       "    <tr>\n",
       "      <th>3</th>\n",
       "      <td>alt-right</td>\n",
       "      <td>Full</td>\n",
       "      <td>15276072.0</td>\n",
       "      <td>21880.0</td>\n",
       "      <td>https://www.adl.org/resources/backgrounders/fr...</td>\n",
       "    </tr>\n",
       "    <tr>\n",
       "      <th>4</th>\n",
       "      <td>american front</td>\n",
       "      <td>Full</td>\n",
       "      <td>67677338.0</td>\n",
       "      <td>83682.0</td>\n",
       "      <td>https://www.adl.org/education/references/hate-...</td>\n",
       "    </tr>\n",
       "  </tbody>\n",
       "</table>\n",
       "</div>"
      ],
      "text/plain": [
       "                                    Search Term Status for Ad Placement  \\\n",
       "0                                      14 words                    Full   \n",
       "1  2083: a european declaration of independence                    Full   \n",
       "2                                      alt-lite                    Full   \n",
       "3                                     alt-right                    Full   \n",
       "4                                american front                    Full   \n",
       "\n",
       "   N YouTube Videos  N YouTube Channels  \\\n",
       "0        61142590.0            240367.0   \n",
       "1              32.0                 0.0   \n",
       "2        15269138.0               150.0   \n",
       "3        15276072.0             21880.0   \n",
       "4        67677338.0             83682.0   \n",
       "\n",
       "                                     Background Info  \n",
       "0  https://www.adl.org/education/references/hate-...  \n",
       "1  https://www.splcenter.org/hatewatch/2011/07/24...  \n",
       "2  https://www.adl.org/resources/backgrounders/fr...  \n",
       "3  https://www.adl.org/resources/backgrounders/fr...  \n",
       "4  https://www.adl.org/education/references/hate-...  "
      ]
     },
     "execution_count": 10,
     "metadata": {},
     "output_type": "execute_result"
    }
   ],
   "source": [
    "hate_table = df_hate[[c for c in col2hate_table_col.keys()]]\n",
    "hate_table.columns = col2hate_table_col.values()\n",
    "hate_table.to_csv(fn_table1, index=False)\n",
    "hate_table.head(5)"
   ]
  },
  {
   "cell_type": "code",
   "execution_count": 11,
   "metadata": {},
   "outputs": [
    {
     "data": {
      "text/html": [
       "<div>\n",
       "<style scoped>\n",
       "    .dataframe tbody tr th:only-of-type {\n",
       "        vertical-align: middle;\n",
       "    }\n",
       "\n",
       "    .dataframe tbody tr th {\n",
       "        vertical-align: top;\n",
       "    }\n",
       "\n",
       "    .dataframe thead th {\n",
       "        text-align: right;\n",
       "    }\n",
       "</style>\n",
       "<table border=\"1\" class=\"dataframe\">\n",
       "  <thead>\n",
       "    <tr style=\"text-align: right;\">\n",
       "      <th></th>\n",
       "      <th>count</th>\n",
       "      <th>percentage</th>\n",
       "    </tr>\n",
       "  </thead>\n",
       "  <tbody>\n",
       "    <tr>\n",
       "      <th>Full</th>\n",
       "      <td>59</td>\n",
       "      <td>0.678161</td>\n",
       "    </tr>\n",
       "    <tr>\n",
       "      <th>Blocked</th>\n",
       "      <td>28</td>\n",
       "      <td>0.321839</td>\n",
       "    </tr>\n",
       "  </tbody>\n",
       "</table>\n",
       "</div>"
      ],
      "text/plain": [
       "         count  percentage\n",
       "Full        59    0.678161\n",
       "Blocked     28    0.321839"
      ]
     },
     "execution_count": 11,
     "metadata": {},
     "output_type": "execute_result"
    }
   ],
   "source": [
    "# what are the statuses of un-altered hate terms?\n",
    "value_counts(df_hate, col='status')"
   ]
  },
  {
   "cell_type": "code",
   "execution_count": 12,
   "metadata": {},
   "outputs": [
    {
     "data": {
      "text/html": [
       "<div>\n",
       "<style scoped>\n",
       "    .dataframe tbody tr th:only-of-type {\n",
       "        vertical-align: middle;\n",
       "    }\n",
       "\n",
       "    .dataframe tbody tr th {\n",
       "        vertical-align: top;\n",
       "    }\n",
       "\n",
       "    .dataframe thead th {\n",
       "        text-align: right;\n",
       "    }\n",
       "</style>\n",
       "<table border=\"1\" class=\"dataframe\">\n",
       "  <thead>\n",
       "    <tr style=\"text-align: right;\">\n",
       "      <th></th>\n",
       "      <th>count</th>\n",
       "      <th>percentage</th>\n",
       "    </tr>\n",
       "  </thead>\n",
       "  <tbody>\n",
       "    <tr>\n",
       "      <th>Full</th>\n",
       "      <td>10</td>\n",
       "      <td>0.588235</td>\n",
       "    </tr>\n",
       "    <tr>\n",
       "      <th>Blocked</th>\n",
       "      <td>3</td>\n",
       "      <td>0.176471</td>\n",
       "    </tr>\n",
       "    <tr>\n",
       "      <th>Partial Block</th>\n",
       "      <td>3</td>\n",
       "      <td>0.176471</td>\n",
       "    </tr>\n",
       "    <tr>\n",
       "      <th>Empty</th>\n",
       "      <td>1</td>\n",
       "      <td>0.058824</td>\n",
       "    </tr>\n",
       "  </tbody>\n",
       "</table>\n",
       "</div>"
      ],
      "text/plain": [
       "               count  percentage\n",
       "Full              10    0.588235\n",
       "Blocked            3    0.176471\n",
       "Partial Block      3    0.176471\n",
       "Empty              1    0.058824"
      ]
     },
     "execution_count": 12,
     "metadata": {},
     "output_type": "execute_result"
    }
   ],
   "source": [
    "# what are the statuses from multi-word terms with spaces removed?\n",
    "df_hate_phrases = df_hate[df_hate.search_term.str.split(' ').str.len() > 1]\n",
    "value_counts(df_hate_phrases,\n",
    "             col='status_no_spaces')"
   ]
  },
  {
   "cell_type": "code",
   "execution_count": 13,
   "metadata": {},
   "outputs": [
    {
     "data": {
      "text/plain": [
       "['american nazi party', 'holocaust denial', 'white pride worldwide']"
      ]
     },
     "execution_count": 13,
     "metadata": {},
     "output_type": "execute_result"
    }
   ],
   "source": [
    "# what is still blocked after removing spaces?\n",
    "still_blocked = df_hate[\n",
    "    (df_hate.search_term.str.split(' ').str.len() > 1) &\n",
    "    (df_hate.status_no_spaces == \"Blocked\")\n",
    "].search_term.tolist()\n",
    "\n",
    "still_blocked"
   ]
  },
  {
   "cell_type": "code",
   "execution_count": 14,
   "metadata": {},
   "outputs": [
    {
     "data": {
      "text/html": [
       "<div>\n",
       "<style scoped>\n",
       "    .dataframe tbody tr th:only-of-type {\n",
       "        vertical-align: middle;\n",
       "    }\n",
       "\n",
       "    .dataframe tbody tr th {\n",
       "        vertical-align: top;\n",
       "    }\n",
       "\n",
       "    .dataframe thead th {\n",
       "        text-align: right;\n",
       "    }\n",
       "</style>\n",
       "<table border=\"1\" class=\"dataframe\">\n",
       "  <thead>\n",
       "    <tr style=\"text-align: right;\">\n",
       "      <th></th>\n",
       "      <th>status</th>\n",
       "    </tr>\n",
       "    <tr>\n",
       "      <th>search_term</th>\n",
       "      <th></th>\n",
       "    </tr>\n",
       "  </thead>\n",
       "  <tbody>\n",
       "    <tr>\n",
       "      <th>american</th>\n",
       "      <td>Full</td>\n",
       "    </tr>\n",
       "    <tr>\n",
       "      <th>denial</th>\n",
       "      <td>Full</td>\n",
       "    </tr>\n",
       "    <tr>\n",
       "      <th>party</th>\n",
       "      <td>Full</td>\n",
       "    </tr>\n",
       "    <tr>\n",
       "      <th>pride</th>\n",
       "      <td>Full</td>\n",
       "    </tr>\n",
       "    <tr>\n",
       "      <th>white</th>\n",
       "      <td>Full</td>\n",
       "    </tr>\n",
       "    <tr>\n",
       "      <th>worldwide</th>\n",
       "      <td>Full</td>\n",
       "    </tr>\n",
       "    <tr>\n",
       "      <th>holocaust</th>\n",
       "      <td>Blocked</td>\n",
       "    </tr>\n",
       "    <tr>\n",
       "      <th>nazi</th>\n",
       "      <td>Blocked</td>\n",
       "    </tr>\n",
       "    <tr>\n",
       "      <th>white pride</th>\n",
       "      <td>Blocked</td>\n",
       "    </tr>\n",
       "  </tbody>\n",
       "</table>\n",
       "</div>"
      ],
      "text/plain": [
       "              status\n",
       "search_term         \n",
       "american        Full\n",
       "denial          Full\n",
       "party           Full\n",
       "pride           Full\n",
       "white           Full\n",
       "worldwide       Full\n",
       "holocaust    Blocked\n",
       "nazi         Blocked\n",
       "white pride  Blocked"
      ]
     },
     "execution_count": 14,
     "metadata": {},
     "output_type": "execute_result"
    }
   ],
   "source": [
    "# among those three terms, which base words are blocked?\n",
    "unique_basewords = {\n",
    "    word for sent in still_blocked for word in sent.split(' ')\n",
    "}\n",
    "\n",
    "df_basewords[df_basewords.search_term.isin(unique_basewords)].append(\n",
    "    df_hate[df_hate.search_term == 'white pride']\n",
    ")[display_cols].set_index('search_term')"
   ]
  },
  {
   "cell_type": "code",
   "execution_count": 15,
   "metadata": {},
   "outputs": [
    {
     "data": {
      "text/html": [
       "<div>\n",
       "<style scoped>\n",
       "    .dataframe tbody tr th:only-of-type {\n",
       "        vertical-align: middle;\n",
       "    }\n",
       "\n",
       "    .dataframe tbody tr th {\n",
       "        vertical-align: top;\n",
       "    }\n",
       "\n",
       "    .dataframe thead th {\n",
       "        text-align: right;\n",
       "    }\n",
       "</style>\n",
       "<table border=\"1\" class=\"dataframe\">\n",
       "  <thead>\n",
       "    <tr style=\"text-align: right;\">\n",
       "      <th></th>\n",
       "      <th>status</th>\n",
       "    </tr>\n",
       "    <tr>\n",
       "      <th>search_term</th>\n",
       "      <th></th>\n",
       "    </tr>\n",
       "  </thead>\n",
       "  <tbody>\n",
       "    <tr>\n",
       "      <th>white nationalist</th>\n",
       "      <td>Blocked</td>\n",
       "    </tr>\n",
       "    <tr>\n",
       "      <th>white nationalism</th>\n",
       "      <td>Full</td>\n",
       "    </tr>\n",
       "    <tr>\n",
       "      <th>white nationalists</th>\n",
       "      <td>Full</td>\n",
       "    </tr>\n",
       "  </tbody>\n",
       "</table>\n",
       "</div>"
      ],
      "text/plain": [
       "                     status\n",
       "search_term                \n",
       "white nationalist   Blocked\n",
       "white nationalism      Full\n",
       "white nationalists     Full"
      ]
     },
     "execution_count": 15,
     "metadata": {},
     "output_type": "execute_result"
    }
   ],
   "source": [
    "# white nationalist vs -ists and -ism\n",
    "(df_hate[df_hate.search_term.str.contains('white national')]\n",
    "    .append(df_adhoc[df_adhoc.search_term.str.contains('white national')])\n",
    "    .sort_values(by='status')[display_cols]\n",
    "    .set_index('search_term'))"
   ]
  },
  {
   "cell_type": "code",
   "execution_count": 16,
   "metadata": {},
   "outputs": [
    {
     "data": {
      "text/html": [
       "<div>\n",
       "<style scoped>\n",
       "    .dataframe tbody tr th:only-of-type {\n",
       "        vertical-align: middle;\n",
       "    }\n",
       "\n",
       "    .dataframe tbody tr th {\n",
       "        vertical-align: top;\n",
       "    }\n",
       "\n",
       "    .dataframe thead th {\n",
       "        text-align: right;\n",
       "    }\n",
       "</style>\n",
       "<table border=\"1\" class=\"dataframe\">\n",
       "  <thead>\n",
       "    <tr style=\"text-align: right;\">\n",
       "      <th></th>\n",
       "      <th>status</th>\n",
       "    </tr>\n",
       "    <tr>\n",
       "      <th>search_term</th>\n",
       "      <th></th>\n",
       "    </tr>\n",
       "  </thead>\n",
       "  <tbody>\n",
       "    <tr>\n",
       "      <th>terrorist</th>\n",
       "      <td>Blocked</td>\n",
       "    </tr>\n",
       "    <tr>\n",
       "      <th>terrorist acts</th>\n",
       "      <td>Blocked</td>\n",
       "    </tr>\n",
       "    <tr>\n",
       "      <th>terrorist attack</th>\n",
       "      <td>Blocked</td>\n",
       "    </tr>\n",
       "    <tr>\n",
       "      <th>terrorist hostages</th>\n",
       "      <td>Blocked</td>\n",
       "    </tr>\n",
       "    <tr>\n",
       "      <th>terrorist ideology</th>\n",
       "      <td>Blocked</td>\n",
       "    </tr>\n",
       "    <tr>\n",
       "      <th>terrorist recruitment</th>\n",
       "      <td>Blocked</td>\n",
       "    </tr>\n",
       "    <tr>\n",
       "      <th>video game terrorist mod</th>\n",
       "      <td>Blocked</td>\n",
       "    </tr>\n",
       "    <tr>\n",
       "      <th>praise terrorist</th>\n",
       "      <td>Blocked</td>\n",
       "    </tr>\n",
       "    <tr>\n",
       "      <th>recruit terrorist</th>\n",
       "      <td>Blocked</td>\n",
       "    </tr>\n",
       "    <tr>\n",
       "      <th>praise terrorists</th>\n",
       "      <td>Full</td>\n",
       "    </tr>\n",
       "    <tr>\n",
       "      <th>recruit terrorists</th>\n",
       "      <td>Full</td>\n",
       "    </tr>\n",
       "    <tr>\n",
       "      <th>terrorists</th>\n",
       "      <td>Full</td>\n",
       "    </tr>\n",
       "    <tr>\n",
       "      <th>terrorists acts</th>\n",
       "      <td>Full</td>\n",
       "    </tr>\n",
       "    <tr>\n",
       "      <th>terrorists attack</th>\n",
       "      <td>Full</td>\n",
       "    </tr>\n",
       "    <tr>\n",
       "      <th>terrorists hostage</th>\n",
       "      <td>Full</td>\n",
       "    </tr>\n",
       "    <tr>\n",
       "      <th>terrorists recruitment</th>\n",
       "      <td>Full</td>\n",
       "    </tr>\n",
       "  </tbody>\n",
       "</table>\n",
       "</div>"
      ],
      "text/plain": [
       "                           status\n",
       "search_term                      \n",
       "terrorist                 Blocked\n",
       "terrorist acts            Blocked\n",
       "terrorist attack          Blocked\n",
       "terrorist hostages        Blocked\n",
       "terrorist ideology        Blocked\n",
       "terrorist recruitment     Blocked\n",
       "video game terrorist mod  Blocked\n",
       "praise terrorist          Blocked\n",
       "recruit terrorist         Blocked\n",
       "praise terrorists            Full\n",
       "recruit terrorists           Full\n",
       "terrorists                   Full\n",
       "terrorists acts              Full\n",
       "terrorists attack            Full\n",
       "terrorists hostage           Full\n",
       "terrorists recruitment       Full"
      ]
     },
     "execution_count": 16,
     "metadata": {},
     "output_type": "execute_result"
    }
   ],
   "source": [
    "# \"terrorists\" vs \"terrorist\"\n",
    "(df_basewords[df_basewords.search_term.str.contains('terrorist')]\n",
    "    .append(df_policy[df_policy.search_term.str.contains('terrorist')])\n",
    "    .append(df_adhoc[df_adhoc.search_term.str.contains('terrorist')])\n",
    "    .sort_values(by='status')[display_cols]\n",
    "    .set_index('search_term'))"
   ]
  },
  {
   "cell_type": "code",
   "execution_count": 17,
   "metadata": {},
   "outputs": [
    {
     "data": {
      "text/html": [
       "<div>\n",
       "<style scoped>\n",
       "    .dataframe tbody tr th:only-of-type {\n",
       "        vertical-align: middle;\n",
       "    }\n",
       "\n",
       "    .dataframe tbody tr th {\n",
       "        vertical-align: top;\n",
       "    }\n",
       "\n",
       "    .dataframe thead th {\n",
       "        text-align: right;\n",
       "    }\n",
       "</style>\n",
       "<table border=\"1\" class=\"dataframe\">\n",
       "  <thead>\n",
       "    <tr style=\"text-align: right;\">\n",
       "      <th></th>\n",
       "      <th>blocked response</th>\n",
       "      <th>full response</th>\n",
       "    </tr>\n",
       "  </thead>\n",
       "  <tbody>\n",
       "    <tr>\n",
       "      <th>68</th>\n",
       "      <td>white pride</td>\n",
       "      <td>whitepride</td>\n",
       "    </tr>\n",
       "    <tr>\n",
       "      <th>67</th>\n",
       "      <td>white pill</td>\n",
       "      <td>whitepill</td>\n",
       "    </tr>\n",
       "    <tr>\n",
       "      <th>66</th>\n",
       "      <td>white nationalist</td>\n",
       "      <td>whitenationalist</td>\n",
       "    </tr>\n",
       "    <tr>\n",
       "      <th>65</th>\n",
       "      <td>white genocide</td>\n",
       "      <td>whitegenocide</td>\n",
       "    </tr>\n",
       "    <tr>\n",
       "      <th>64</th>\n",
       "      <td>sieg heil</td>\n",
       "      <td>siegheil</td>\n",
       "    </tr>\n",
       "    <tr>\n",
       "      <th>63</th>\n",
       "      <td>radical islamic terror</td>\n",
       "      <td>radicalislamicterror</td>\n",
       "    </tr>\n",
       "    <tr>\n",
       "      <th>62</th>\n",
       "      <td>jewish question</td>\n",
       "      <td>jewishquestion</td>\n",
       "    </tr>\n",
       "    <tr>\n",
       "      <th>61</th>\n",
       "      <td>heil hitler</td>\n",
       "      <td>heilhitler</td>\n",
       "    </tr>\n",
       "    <tr>\n",
       "      <th>60</th>\n",
       "      <td>globalist jews</td>\n",
       "      <td>globalistjews</td>\n",
       "    </tr>\n",
       "    <tr>\n",
       "      <th>59</th>\n",
       "      <td>dual seedline</td>\n",
       "      <td>dualseedline</td>\n",
       "    </tr>\n",
       "  </tbody>\n",
       "</table>\n",
       "</div>"
      ],
      "text/plain": [
       "          blocked response         full response\n",
       "68             white pride            whitepride\n",
       "67              white pill             whitepill\n",
       "66       white nationalist      whitenationalist\n",
       "65          white genocide         whitegenocide\n",
       "64               sieg heil              siegheil\n",
       "63  radical islamic terror  radicalislamicterror\n",
       "62         jewish question        jewishquestion\n",
       "61             heil hitler            heilhitler\n",
       "60          globalist jews         globalistjews\n",
       "59           dual seedline          dualseedline"
      ]
     },
     "execution_count": 17,
     "metadata": {},
     "output_type": "execute_result"
    }
   ],
   "source": [
    "# multi-word blocked terms, which return full responses after spaces are removed.\n",
    "bandaids = df_hate[\n",
    "    (df_hate.status == 'Blocked') &\n",
    "    (df_hate.status_no_spaces == \"Full\")\n",
    "][['search_term']]\n",
    "\n",
    "bandaids['full response'] = bandaids['search_term'].str.replace(' ', '')\n",
    "\n",
    "bandaids.columns = ['blocked response', 'full response']\n",
    "bandaids.sort_values(by='blocked response', inplace=True, ascending=False)\n",
    "bandaids.to_csv(fn_table2, index=False)\n",
    "bandaids"
   ]
  },
  {
   "cell_type": "markdown",
   "metadata": {},
   "source": [
    "## Hate phrases vs hate content"
   ]
  },
  {
   "cell_type": "code",
   "execution_count": 18,
   "metadata": {},
   "outputs": [
    {
     "data": {
      "text/plain": [
       "54    169420977.0\n",
       "Name: n_youtube_videos, dtype: float64"
      ]
     },
     "execution_count": 18,
     "metadata": {},
     "output_type": "execute_result"
    }
   ],
   "source": [
    "# how many videos are related to \"white power\"?\n",
    "df_hate[df_hate.search_term == \"white power\"].n_youtube_videos"
   ]
  },
  {
   "cell_type": "code",
   "execution_count": 19,
   "metadata": {},
   "outputs": [],
   "source": [
    "df_hate_video = pd.read_csv(fn_youtube_videos)\n",
    "df_hate_channels = pd.read_csv(fn_youtube_channels)"
   ]
  },
  {
   "cell_type": "markdown",
   "metadata": {},
   "source": [
    "What are the most suggested channels?"
   ]
  },
  {
   "cell_type": "code",
   "execution_count": 20,
   "metadata": {},
   "outputs": [
    {
     "data": {
      "text/plain": [
       "CNN                    27\n",
       "Ruptly                 24\n",
       "AP Archive             18\n",
       "The F/S Effect         12\n",
       "Dystopia Now           12\n",
       "Destiny                12\n",
       "Newsy                  11\n",
       "Global News            10\n",
       "The Young Turks        10\n",
       "Soap - Sim Racer        9\n",
       "VICE News               8\n",
       "NowThis News            8\n",
       "Journeyman Pictures     8\n",
       "Name: youtube_video_channel, dtype: int64"
      ]
     },
     "execution_count": 20,
     "metadata": {},
     "output_type": "execute_result"
    }
   ],
   "source": [
    "# top channels from suggested videos\n",
    "channels_from_video = df_hate_video.youtube_video_channel.value_counts()\n",
    "channels_from_video.to_csv(fn_table3a_full)\n",
    "\n",
    "# this is what is displayed in the method\n",
    "channels_from_video = channels_from_video[channels_from_video >= 8]\n",
    "channels_from_video.to_csv(fn_table3a)\n",
    "channels_from_video"
   ]
  },
  {
   "cell_type": "code",
   "execution_count": 21,
   "metadata": {},
   "outputs": [
    {
     "data": {
      "text/plain": [
       "Democracy Now!              4\n",
       "PragerU                     4\n",
       "VICE                        4\n",
       "Beau of the Fifth Column    4\n",
       "CinemaSins                  4\n",
       "Pixel_Hipster               3\n",
       "Dia Beltran                 3\n",
       "The Officer Tatum           3\n",
       "ContraPoints                3\n",
       "act.tv                      3\n",
       "Trae Crowder                3\n",
       "StevenCrowder               3\n",
       "Name: youtube_channel_name, dtype: int64"
      ]
     },
     "execution_count": 21,
     "metadata": {},
     "output_type": "execute_result"
    }
   ],
   "source": [
    "# top channels from suggested channels\n",
    "channels_from_channels = df_hate_channels.youtube_channel_name.value_counts()\n",
    "channels_from_channels.to_csv(fn_table3b_full)\n",
    "\n",
    "# this is what is displayed in the method\n",
    "channels_from_channels = channels_from_channels[channels_from_channels>= 3]\n",
    "channels_from_channels.to_csv(fn_table3b)\n",
    "channels_from_channels"
   ]
  }
 ],
 "metadata": {
  "kernelspec": {
   "display_name": "Python 3",
   "language": "python",
   "name": "python3"
  },
  "language_info": {
   "codemirror_mode": {
    "name": "ipython",
    "version": 3
   },
   "file_extension": ".py",
   "mimetype": "text/x-python",
   "name": "python",
   "nbconvert_exporter": "python",
   "pygments_lexer": "ipython3",
   "version": "3.8.1"
  }
 },
 "nbformat": 4,
 "nbformat_minor": 4
}
